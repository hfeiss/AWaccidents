{
 "cells": [
  {
   "cell_type": "code",
   "execution_count": 2,
   "metadata": {},
   "outputs": [],
   "source": [
    "import pandas as pd\n",
    "import numpy as np\n",
    "import matplotlib.pyplot as plt\n",
    "from pandas.plotting import register_matplotlib_converters\n",
    "register_matplotlib_converters()\n",
    "%matplotlib inline"
   ]
  },
  {
   "cell_type": "code",
   "execution_count": 3,
   "metadata": {},
   "outputs": [],
   "source": [
    "pd.set_option('display.max_columns', 100)\n",
    "pd.set_option('display.max_rows', 50)"
   ]
  },
  {
   "cell_type": "code",
   "execution_count": 4,
   "metadata": {},
   "outputs": [],
   "source": [
    "df = pd.read_csv('/Users/hfeiss/dsi/capstone-2/data/raw/accidents.csv')"
   ]
  },
  {
   "cell_type": "code",
   "execution_count": 5,
   "metadata": {},
   "outputs": [
    {
     "data": {
      "text/plain": "Index(['id', '0', 'accidentdate', '1', 'victimname', '2', 'reachid', '3',\n       'countryabbr', '4', 'state', '5', 'river', '6', 'section', '7',\n       'location', '8', 'waterlevel', '9', 'rellevel', '10', 'difficulty',\n       '11', 'age', '12', 'experience', '13', 'privcomm', '14', 'boattype',\n       '15', 'groupinfo', '16', 'numvictims', '17', 'othervictimnames', '18',\n       'description', '19', 'type', '20', 'cause', '21', 'contactname', '22',\n       'contactphone', '23', 'contactemail', '24', 'status', '25'],\n      dtype='object')"
     },
     "execution_count": 5,
     "metadata": {},
     "output_type": "execute_result"
    }
   ],
   "source": [
    "df.columns"
   ]
  },
  {
   "cell_type": "code",
   "execution_count": 6,
   "metadata": {},
   "outputs": [],
   "source": [
    "cols_to_drop = [col for col in df.columns][1::2]\n",
    "cols_to_drop.extend(['victimname', 'othervictimnames', 'contactname', 'contactphone', 'contactemail', 'reachid'])\n",
    "for col in cols_to_drop:\n",
    "    del df[col]"
   ]
  },
  {
   "cell_type": "code",
   "execution_count": 7,
   "metadata": {},
   "outputs": [
    {
     "data": {
      "text/plain": "(array([1.090e+02, 0.000e+00, 0.000e+00, 0.000e+00, 0.000e+00, 1.000e+00,\n        3.000e+00, 1.202e+03, 1.226e+03, 2.000e+00]),\n array([612411.0088327 , 627435.80794943, 642460.60706616, 657485.40618289,\n        672510.20529962, 687535.00441635, 702559.80353308, 717584.60264981,\n        732609.40176654, 747634.20088327, 762659.        ]),\n <a list of 10 Patch objects>)"
     },
     "execution_count": 7,
     "metadata": {},
     "output_type": "execute_result"
    },
    {
     "data": {
      "image/png": "[encoded data removed]",
      "image/svg+xml": "<?xml version=\"1.0\" encoding=\"utf-8\" standalone=\"no\"?>\n<!DOCTYPE svg PUBLIC \"-//W3C//DTD SVG 1.1//EN\"\n  \"http://www.w3.org/Graphics/SVG/1.1/DTD/svg11.dtd\">\n<!-- Created with matplotlib (https://matplotlib.org/) -->\n<svg height=\"248.518125pt\" version=\"1.1\" viewBox=\"0 0 387.231425 248.518125\" width=\"387.231425pt\" xmlns=\"http://www.w3.org/2000/svg\" xmlns:xlink=\"http://www.w3.org/1999/xlink\">\n <defs>\n  <style type=\"text/css\">\n*{stroke-linecap:butt;stroke-linejoin:round;}\n  </style>\n </defs>\n <g id=\"figure_1\">\n  <g id=\"patch_1\">\n   <path d=\"M -0 248.518125 \nL 387.231425 248.518125 \nL 387.231425 0 \nL -0 0 \nz\n\" style=\"fill:none;\"/>\n  </g>\n  <g id=\"axes_1\">\n   <g id=\"patch_2\">\n    <path d=\"M 39.65 224.64 \nL 374.45 224.64 \nL 374.45 7.2 \nL 39.65 7.2 \nz\n\" style=\"fill:#ffffff;\"/>\n   </g>\n   <g id=\"patch_3\">\n    <path clip-path=\"url(#p523e357bf2)\" d=\"M 54.868182 224.64 \nL 85.304545 224.64 \nL 85.304545 206.228627 \nL 54.868182 206.228627 \nz\n\" style=\"fill:#1f77b4;\"/>\n   </g>\n   <g id=\"patch_4\">\n    <path clip-path=\"url(#p523e357bf2)\" d=\"M 85.304545 224.64 \nL 115.740909 224.64 \nL 115.740909 224.64 \nL 85.304545 224.64 \nz\n\" style=\"fill:#1f77b4;\"/>\n   </g>\n   <g id=\"patch_5\">\n    <path clip-path=\"url(#p523e357bf2)\" d=\"M 115.740909 224.64 \nL 146.177273 224.64 \nL 146.177273 224.64 \nL 115.740909 224.64 \nz\n\" style=\"fill:#1f77b4;\"/>\n   </g>\n   <g id=\"patch_6\">\n    <path clip-path=\"url(#p523e357bf2)\" d=\"M 146.177273 224.64 \nL 176.613636 224.64 \nL 176.613636 224.64 \nL 146.177273 224.64 \nz\n\" style=\"fill:#1f77b4;\"/>\n   </g>\n   <g id=\"patch_7\">\n    <path clip-path=\"url(#p523e357bf2)\" d=\"M 176.613636 224.64 \nL 207.05 224.64 \nL 207.05 224.64 \nL 176.613636 224.64 \nz\n\" style=\"fill:#1f77b4;\"/>\n   </g>\n   <g id=\"patch_8\">\n    <path clip-path=\"url(#p523e357bf2)\" d=\"M 207.05 224.64 \nL 237.486364 224.64 \nL 237.486364 224.471088 \nL 207.05 224.471088 \nz\n\" style=\"fill:#1f77b4;\"/>\n   </g>\n   <g id=\"patch_9\">\n    <path clip-path=\"url(#p523e357bf2)\" d=\"M 237.486364 224.64 \nL 267.922727 224.64 \nL 267.922727 224.133265 \nL 237.486364 224.133265 \nz\n\" style=\"fill:#1f77b4;\"/>\n   </g>\n   <g id=\"patch_10\">\n    <path clip-path=\"url(#p523e357bf2)\" d=\"M 267.922727 224.64 \nL 298.359091 224.64 \nL 298.359091 21.608166 \nL 267.922727 21.608166 \nz\n\" style=\"fill:#1f77b4;\"/>\n   </g>\n   <g id=\"patch_11\">\n    <path clip-path=\"url(#p523e357bf2)\" d=\"M 298.359091 224.64 \nL 328.795455 224.64 \nL 328.795455 17.554286 \nL 298.359091 17.554286 \nz\n\" style=\"fill:#1f77b4;\"/>\n   </g>\n   <g id=\"patch_12\">\n    <path clip-path=\"url(#p523e357bf2)\" d=\"M 328.795455 224.64 \nL 359.231818 224.64 \nL 359.231818 224.302177 \nL 328.795455 224.302177 \nz\n\" style=\"fill:#1f77b4;\"/>\n   </g>\n   <g id=\"matplotlib.axis_1\">\n    <g id=\"xtick_1\">\n     <g id=\"line2d_1\">\n      <defs>\n       <path d=\"M 0 0 \nL 0 3.5 \n\" id=\"m6a53e7523b\" style=\"stroke:#000000;stroke-width:0.8;\"/>\n      </defs>\n      <g>\n       <use style=\"stroke:#000000;stroke-width:0.8;\" x=\"71.351625\" xlink:href=\"#m6a53e7523b\" y=\"224.64\"/>\n      </g>\n     </g>\n     <g id=\"text_1\">\n      <!-- 1700 -->\n      <defs>\n       <path d=\"M 12.40625 8.296875 \nL 28.515625 8.296875 \nL 28.515625 63.921875 \nL 10.984375 60.40625 \nL 10.984375 69.390625 \nL 28.421875 72.90625 \nL 38.28125 72.90625 \nL 38.28125 8.296875 \nL 54.390625 8.296875 \nL 54.390625 0 \nL 12.40625 0 \nz\n\" id=\"DejaVuSans-49\"/>\n       <path d=\"M 8.203125 72.90625 \nL 55.078125 72.90625 \nL 55.078125 68.703125 \nL 28.609375 0 \nL 18.3125 0 \nL 43.21875 64.59375 \nL 8.203125 64.59375 \nz\n\" id=\"DejaVuSans-55\"/>\n       <path d=\"M 31.78125 66.40625 \nQ 24.171875 66.40625 20.328125 58.90625 \nQ 16.5 51.421875 16.5 36.375 \nQ 16.5 21.390625 20.328125 13.890625 \nQ 24.171875 6.390625 31.78125 6.390625 \nQ 39.453125 6.390625 43.28125 13.890625 \nQ 47.125 21.390625 47.125 36.375 \nQ 47.125 51.421875 43.28125 58.90625 \nQ 39.453125 66.40625 31.78125 66.40625 \nz\nM 31.78125 74.21875 \nQ 44.046875 74.21875 50.515625 64.515625 \nQ 56.984375 54.828125 56.984375 36.375 \nQ 56.984375 17.96875 50.515625 8.265625 \nQ 44.046875 -1.421875 31.78125 -1.421875 \nQ 19.53125 -1.421875 13.0625 8.265625 \nQ 6.59375 17.96875 6.59375 36.375 \nQ 6.59375 54.828125 13.0625 64.515625 \nQ 19.53125 74.21875 31.78125 74.21875 \nz\n\" id=\"DejaVuSans-48\"/>\n      </defs>\n      <g transform=\"translate(58.626625 239.238438)scale(0.1 -0.1)\">\n       <use xlink:href=\"#DejaVuSans-49\"/>\n       <use x=\"63.623047\" xlink:href=\"#DejaVuSans-55\"/>\n       <use x=\"127.246094\" xlink:href=\"#DejaVuSans-48\"/>\n       <use x=\"190.869141\" xlink:href=\"#DejaVuSans-48\"/>\n      </g>\n     </g>\n    </g>\n    <g id=\"xtick_2\">\n     <g id=\"line2d_2\">\n      <g>\n       <use style=\"stroke:#000000;stroke-width:0.8;\" x=\"108.345722\" xlink:href=\"#m6a53e7523b\" y=\"224.64\"/>\n      </g>\n     </g>\n     <g id=\"text_2\">\n      <!-- 1750 -->\n      <defs>\n       <path d=\"M 10.796875 72.90625 \nL 49.515625 72.90625 \nL 49.515625 64.59375 \nL 19.828125 64.59375 \nL 19.828125 46.734375 \nQ 21.96875 47.46875 24.109375 47.828125 \nQ 26.265625 48.1875 28.421875 48.1875 \nQ 40.625 48.1875 47.75 41.5 \nQ 54.890625 34.8125 54.890625 23.390625 \nQ 54.890625 11.625 47.5625 5.09375 \nQ 40.234375 -1.421875 26.90625 -1.421875 \nQ 22.3125 -1.421875 17.546875 -0.640625 \nQ 12.796875 0.140625 7.71875 1.703125 \nL 7.71875 11.625 \nQ 12.109375 9.234375 16.796875 8.0625 \nQ 21.484375 6.890625 26.703125 6.890625 \nQ 35.15625 6.890625 40.078125 11.328125 \nQ 45.015625 15.765625 45.015625 23.390625 \nQ 45.015625 31 40.078125 35.4375 \nQ 35.15625 39.890625 26.703125 39.890625 \nQ 22.75 39.890625 18.8125 39.015625 \nQ 14.890625 38.140625 10.796875 36.28125 \nz\n\" id=\"DejaVuSans-53\"/>\n      </defs>\n      <g transform=\"translate(95.620722 239.238438)scale(0.1 -0.1)\">\n       <use xlink:href=\"#DejaVuSans-49\"/>\n       <use x=\"63.623047\" xlink:href=\"#DejaVuSans-55\"/>\n       <use x=\"127.246094\" xlink:href=\"#DejaVuSans-53\"/>\n       <use x=\"190.869141\" xlink:href=\"#DejaVuSans-48\"/>\n      </g>\n     </g>\n    </g>\n    <g id=\"xtick_3\">\n     <g id=\"line2d_3\">\n      <g>\n       <use style=\"stroke:#000000;stroke-width:0.8;\" x=\"145.339819\" xlink:href=\"#m6a53e7523b\" y=\"224.64\"/>\n      </g>\n     </g>\n     <g id=\"text_3\">\n      <!-- 1800 -->\n      <defs>\n       <path d=\"M 31.78125 34.625 \nQ 24.75 34.625 20.71875 30.859375 \nQ 16.703125 27.09375 16.703125 20.515625 \nQ 16.703125 13.921875 20.71875 10.15625 \nQ 24.75 6.390625 31.78125 6.390625 \nQ 38.8125 6.390625 42.859375 10.171875 \nQ 46.921875 13.96875 46.921875 20.515625 \nQ 46.921875 27.09375 42.890625 30.859375 \nQ 38.875 34.625 31.78125 34.625 \nz\nM 21.921875 38.8125 \nQ 15.578125 40.375 12.03125 44.71875 \nQ 8.5 49.078125 8.5 55.328125 \nQ 8.5 64.0625 14.71875 69.140625 \nQ 20.953125 74.21875 31.78125 74.21875 \nQ 42.671875 74.21875 48.875 69.140625 \nQ 55.078125 64.0625 55.078125 55.328125 \nQ 55.078125 49.078125 51.53125 44.71875 \nQ 48 40.375 41.703125 38.8125 \nQ 48.828125 37.15625 52.796875 32.3125 \nQ 56.78125 27.484375 56.78125 20.515625 \nQ 56.78125 9.90625 50.3125 4.234375 \nQ 43.84375 -1.421875 31.78125 -1.421875 \nQ 19.734375 -1.421875 13.25 4.234375 \nQ 6.78125 9.90625 6.78125 20.515625 \nQ 6.78125 27.484375 10.78125 32.3125 \nQ 14.796875 37.15625 21.921875 38.8125 \nz\nM 18.3125 54.390625 \nQ 18.3125 48.734375 21.84375 45.5625 \nQ 25.390625 42.390625 31.78125 42.390625 \nQ 38.140625 42.390625 41.71875 45.5625 \nQ 45.3125 48.734375 45.3125 54.390625 \nQ 45.3125 60.0625 41.71875 63.234375 \nQ 38.140625 66.40625 31.78125 66.40625 \nQ 25.390625 66.40625 21.84375 63.234375 \nQ 18.3125 60.0625 18.3125 54.390625 \nz\n\" id=\"DejaVuSans-56\"/>\n      </defs>\n      <g transform=\"translate(132.614819 239.238438)scale(0.1 -0.1)\">\n       <use xlink:href=\"#DejaVuSans-49\"/>\n       <use x=\"63.623047\" xlink:href=\"#DejaVuSans-56\"/>\n       <use x=\"127.246094\" xlink:href=\"#DejaVuSans-48\"/>\n       <use x=\"190.869141\" xlink:href=\"#DejaVuSans-48\"/>\n      </g>\n     </g>\n    </g>\n    <g id=\"xtick_4\">\n     <g id=\"line2d_4\">\n      <g>\n       <use style=\"stroke:#000000;stroke-width:0.8;\" x=\"182.333915\" xlink:href=\"#m6a53e7523b\" y=\"224.64\"/>\n      </g>\n     </g>\n     <g id=\"text_4\">\n      <!-- 1850 -->\n      <g transform=\"translate(169.608915 239.238438)scale(0.1 -0.1)\">\n       <use xlink:href=\"#DejaVuSans-49\"/>\n       <use x=\"63.623047\" xlink:href=\"#DejaVuSans-56\"/>\n       <use x=\"127.246094\" xlink:href=\"#DejaVuSans-53\"/>\n       <use x=\"190.869141\" xlink:href=\"#DejaVuSans-48\"/>\n      </g>\n     </g>\n    </g>\n    <g id=\"xtick_5\">\n     <g id=\"line2d_5\">\n      <g>\n       <use style=\"stroke:#000000;stroke-width:0.8;\" x=\"219.328012\" xlink:href=\"#m6a53e7523b\" y=\"224.64\"/>\n      </g>\n     </g>\n     <g id=\"text_5\">\n      <!-- 1900 -->\n      <defs>\n       <path d=\"M 10.984375 1.515625 \nL 10.984375 10.5 \nQ 14.703125 8.734375 18.5 7.8125 \nQ 22.3125 6.890625 25.984375 6.890625 \nQ 35.75 6.890625 40.890625 13.453125 \nQ 46.046875 20.015625 46.78125 33.40625 \nQ 43.953125 29.203125 39.59375 26.953125 \nQ 35.25 24.703125 29.984375 24.703125 \nQ 19.046875 24.703125 12.671875 31.3125 \nQ 6.296875 37.9375 6.296875 49.421875 \nQ 6.296875 60.640625 12.9375 67.421875 \nQ 19.578125 74.21875 30.609375 74.21875 \nQ 43.265625 74.21875 49.921875 64.515625 \nQ 56.59375 54.828125 56.59375 36.375 \nQ 56.59375 19.140625 48.40625 8.859375 \nQ 40.234375 -1.421875 26.421875 -1.421875 \nQ 22.703125 -1.421875 18.890625 -0.6875 \nQ 15.09375 0.046875 10.984375 1.515625 \nz\nM 30.609375 32.421875 \nQ 37.25 32.421875 41.125 36.953125 \nQ 45.015625 41.5 45.015625 49.421875 \nQ 45.015625 57.28125 41.125 61.84375 \nQ 37.25 66.40625 30.609375 66.40625 \nQ 23.96875 66.40625 20.09375 61.84375 \nQ 16.21875 57.28125 16.21875 49.421875 \nQ 16.21875 41.5 20.09375 36.953125 \nQ 23.96875 32.421875 30.609375 32.421875 \nz\n\" id=\"DejaVuSans-57\"/>\n      </defs>\n      <g transform=\"translate(206.603012 239.238438)scale(0.1 -0.1)\">\n       <use xlink:href=\"#DejaVuSans-49\"/>\n       <use x=\"63.623047\" xlink:href=\"#DejaVuSans-57\"/>\n       <use x=\"127.246094\" xlink:href=\"#DejaVuSans-48\"/>\n       <use x=\"190.869141\" xlink:href=\"#DejaVuSans-48\"/>\n      </g>\n     </g>\n    </g>\n    <g id=\"xtick_6\">\n     <g id=\"line2d_6\">\n      <g>\n       <use style=\"stroke:#000000;stroke-width:0.8;\" x=\"256.322109\" xlink:href=\"#m6a53e7523b\" y=\"224.64\"/>\n      </g>\n     </g>\n     <g id=\"text_6\">\n      <!-- 1950 -->\n      <g transform=\"translate(243.597109 239.238438)scale(0.1 -0.1)\">\n       <use xlink:href=\"#DejaVuSans-49\"/>\n       <use x=\"63.623047\" xlink:href=\"#DejaVuSans-57\"/>\n       <use x=\"127.246094\" xlink:href=\"#DejaVuSans-53\"/>\n       <use x=\"190.869141\" xlink:href=\"#DejaVuSans-48\"/>\n      </g>\n     </g>\n    </g>\n    <g id=\"xtick_7\">\n     <g id=\"line2d_7\">\n      <g>\n       <use style=\"stroke:#000000;stroke-width:0.8;\" x=\"293.316206\" xlink:href=\"#m6a53e7523b\" y=\"224.64\"/>\n      </g>\n     </g>\n     <g id=\"text_7\">\n      <!-- 2000 -->\n      <defs>\n       <path d=\"M 19.1875 8.296875 \nL 53.609375 8.296875 \nL 53.609375 0 \nL 7.328125 0 \nL 7.328125 8.296875 \nQ 12.9375 14.109375 22.625 23.890625 \nQ 32.328125 33.6875 34.8125 36.53125 \nQ 39.546875 41.84375 41.421875 45.53125 \nQ 43.3125 49.21875 43.3125 52.78125 \nQ 43.3125 58.59375 39.234375 62.25 \nQ 35.15625 65.921875 28.609375 65.921875 \nQ 23.96875 65.921875 18.8125 64.3125 \nQ 13.671875 62.703125 7.8125 59.421875 \nL 7.8125 69.390625 \nQ 13.765625 71.78125 18.9375 73 \nQ 24.125 74.21875 28.421875 74.21875 \nQ 39.75 74.21875 46.484375 68.546875 \nQ 53.21875 62.890625 53.21875 53.421875 \nQ 53.21875 48.921875 51.53125 44.890625 \nQ 49.859375 40.875 45.40625 35.40625 \nQ 44.1875 33.984375 37.640625 27.21875 \nQ 31.109375 20.453125 19.1875 8.296875 \nz\n\" id=\"DejaVuSans-50\"/>\n      </defs>\n      <g transform=\"translate(280.591206 239.238438)scale(0.1 -0.1)\">\n       <use xlink:href=\"#DejaVuSans-50\"/>\n       <use x=\"63.623047\" xlink:href=\"#DejaVuSans-48\"/>\n       <use x=\"127.246094\" xlink:href=\"#DejaVuSans-48\"/>\n       <use x=\"190.869141\" xlink:href=\"#DejaVuSans-48\"/>\n      </g>\n     </g>\n    </g>\n    <g id=\"xtick_8\">\n     <g id=\"line2d_8\">\n      <g>\n       <use style=\"stroke:#000000;stroke-width:0.8;\" x=\"330.312328\" xlink:href=\"#m6a53e7523b\" y=\"224.64\"/>\n      </g>\n     </g>\n     <g id=\"text_8\">\n      <!-- 2050 -->\n      <g transform=\"translate(317.587328 239.238438)scale(0.1 -0.1)\">\n       <use xlink:href=\"#DejaVuSans-50\"/>\n       <use x=\"63.623047\" xlink:href=\"#DejaVuSans-48\"/>\n       <use x=\"127.246094\" xlink:href=\"#DejaVuSans-53\"/>\n       <use x=\"190.869141\" xlink:href=\"#DejaVuSans-48\"/>\n      </g>\n     </g>\n    </g>\n    <g id=\"xtick_9\">\n     <g id=\"line2d_9\">\n      <g>\n       <use style=\"stroke:#000000;stroke-width:0.8;\" x=\"367.306425\" xlink:href=\"#m6a53e7523b\" y=\"224.64\"/>\n      </g>\n     </g>\n     <g id=\"text_9\">\n      <!-- 2100 -->\n      <g transform=\"translate(354.581425 239.238438)scale(0.1 -0.1)\">\n       <use xlink:href=\"#DejaVuSans-50\"/>\n       <use x=\"63.623047\" xlink:href=\"#DejaVuSans-49\"/>\n       <use x=\"127.246094\" xlink:href=\"#DejaVuSans-48\"/>\n       <use x=\"190.869141\" xlink:href=\"#DejaVuSans-48\"/>\n      </g>\n     </g>\n    </g>\n   </g>\n   <g id=\"matplotlib.axis_2\">\n    <g id=\"ytick_1\">\n     <g id=\"line2d_10\">\n      <defs>\n       <path d=\"M 0 0 \nL -3.5 0 \n\" id=\"mb9910dc2a2\" style=\"stroke:#000000;stroke-width:0.8;\"/>\n      </defs>\n      <g>\n       <use style=\"stroke:#000000;stroke-width:0.8;\" x=\"39.65\" xlink:href=\"#mb9910dc2a2\" y=\"224.64\"/>\n      </g>\n     </g>\n     <g id=\"text_10\">\n      <!-- 0 -->\n      <g transform=\"translate(26.2875 228.439219)scale(0.1 -0.1)\">\n       <use xlink:href=\"#DejaVuSans-48\"/>\n      </g>\n     </g>\n    </g>\n    <g id=\"ytick_2\">\n     <g id=\"line2d_11\">\n      <g>\n       <use style=\"stroke:#000000;stroke-width:0.8;\" x=\"39.65\" xlink:href=\"#mb9910dc2a2\" y=\"190.857665\"/>\n      </g>\n     </g>\n     <g id=\"text_11\">\n      <!-- 200 -->\n      <g transform=\"translate(13.5625 194.656884)scale(0.1 -0.1)\">\n       <use xlink:href=\"#DejaVuSans-50\"/>\n       <use x=\"63.623047\" xlink:href=\"#DejaVuSans-48\"/>\n       <use x=\"127.246094\" xlink:href=\"#DejaVuSans-48\"/>\n      </g>\n     </g>\n    </g>\n    <g id=\"ytick_3\">\n     <g id=\"line2d_12\">\n      <g>\n       <use style=\"stroke:#000000;stroke-width:0.8;\" x=\"39.65\" xlink:href=\"#mb9910dc2a2\" y=\"157.07533\"/>\n      </g>\n     </g>\n     <g id=\"text_12\">\n      <!-- 400 -->\n      <defs>\n       <path d=\"M 37.796875 64.3125 \nL 12.890625 25.390625 \nL 37.796875 25.390625 \nz\nM 35.203125 72.90625 \nL 47.609375 72.90625 \nL 47.609375 25.390625 \nL 58.015625 25.390625 \nL 58.015625 17.1875 \nL 47.609375 17.1875 \nL 47.609375 0 \nL 37.796875 0 \nL 37.796875 17.1875 \nL 4.890625 17.1875 \nL 4.890625 26.703125 \nz\n\" id=\"DejaVuSans-52\"/>\n      </defs>\n      <g transform=\"translate(13.5625 160.874549)scale(0.1 -0.1)\">\n       <use xlink:href=\"#DejaVuSans-52\"/>\n       <use x=\"63.623047\" xlink:href=\"#DejaVuSans-48\"/>\n       <use x=\"127.246094\" xlink:href=\"#DejaVuSans-48\"/>\n      </g>\n     </g>\n    </g>\n    <g id=\"ytick_4\">\n     <g id=\"line2d_13\">\n      <g>\n       <use style=\"stroke:#000000;stroke-width:0.8;\" x=\"39.65\" xlink:href=\"#mb9910dc2a2\" y=\"123.292995\"/>\n      </g>\n     </g>\n     <g id=\"text_13\">\n      <!-- 600 -->\n      <defs>\n       <path d=\"M 33.015625 40.375 \nQ 26.375 40.375 22.484375 35.828125 \nQ 18.609375 31.296875 18.609375 23.390625 \nQ 18.609375 15.53125 22.484375 10.953125 \nQ 26.375 6.390625 33.015625 6.390625 \nQ 39.65625 6.390625 43.53125 10.953125 \nQ 47.40625 15.53125 47.40625 23.390625 \nQ 47.40625 31.296875 43.53125 35.828125 \nQ 39.65625 40.375 33.015625 40.375 \nz\nM 52.59375 71.296875 \nL 52.59375 62.3125 \nQ 48.875 64.0625 45.09375 64.984375 \nQ 41.3125 65.921875 37.59375 65.921875 \nQ 27.828125 65.921875 22.671875 59.328125 \nQ 17.53125 52.734375 16.796875 39.40625 \nQ 19.671875 43.65625 24.015625 45.921875 \nQ 28.375 48.1875 33.59375 48.1875 \nQ 44.578125 48.1875 50.953125 41.515625 \nQ 57.328125 34.859375 57.328125 23.390625 \nQ 57.328125 12.15625 50.6875 5.359375 \nQ 44.046875 -1.421875 33.015625 -1.421875 \nQ 20.359375 -1.421875 13.671875 8.265625 \nQ 6.984375 17.96875 6.984375 36.375 \nQ 6.984375 53.65625 15.1875 63.9375 \nQ 23.390625 74.21875 37.203125 74.21875 \nQ 40.921875 74.21875 44.703125 73.484375 \nQ 48.484375 72.75 52.59375 71.296875 \nz\n\" id=\"DejaVuSans-54\"/>\n      </defs>\n      <g transform=\"translate(13.5625 127.092213)scale(0.1 -0.1)\">\n       <use xlink:href=\"#DejaVuSans-54\"/>\n       <use x=\"63.623047\" xlink:href=\"#DejaVuSans-48\"/>\n       <use x=\"127.246094\" xlink:href=\"#DejaVuSans-48\"/>\n      </g>\n     </g>\n    </g>\n    <g id=\"ytick_5\">\n     <g id=\"line2d_14\">\n      <g>\n       <use style=\"stroke:#000000;stroke-width:0.8;\" x=\"39.65\" xlink:href=\"#mb9910dc2a2\" y=\"89.51066\"/>\n      </g>\n     </g>\n     <g id=\"text_14\">\n      <!-- 800 -->\n      <g transform=\"translate(13.5625 93.309878)scale(0.1 -0.1)\">\n       <use xlink:href=\"#DejaVuSans-56\"/>\n       <use x=\"63.623047\" xlink:href=\"#DejaVuSans-48\"/>\n       <use x=\"127.246094\" xlink:href=\"#DejaVuSans-48\"/>\n      </g>\n     </g>\n    </g>\n    <g id=\"ytick_6\">\n     <g id=\"line2d_15\">\n      <g>\n       <use style=\"stroke:#000000;stroke-width:0.8;\" x=\"39.65\" xlink:href=\"#mb9910dc2a2\" y=\"55.728324\"/>\n      </g>\n     </g>\n     <g id=\"text_15\">\n      <!-- 1000 -->\n      <g transform=\"translate(7.2 59.527543)scale(0.1 -0.1)\">\n       <use xlink:href=\"#DejaVuSans-49\"/>\n       <use x=\"63.623047\" xlink:href=\"#DejaVuSans-48\"/>\n       <use x=\"127.246094\" xlink:href=\"#DejaVuSans-48\"/>\n       <use x=\"190.869141\" xlink:href=\"#DejaVuSans-48\"/>\n      </g>\n     </g>\n    </g>\n    <g id=\"ytick_7\">\n     <g id=\"line2d_16\">\n      <g>\n       <use style=\"stroke:#000000;stroke-width:0.8;\" x=\"39.65\" xlink:href=\"#mb9910dc2a2\" y=\"21.945989\"/>\n      </g>\n     </g>\n     <g id=\"text_16\">\n      <!-- 1200 -->\n      <g transform=\"translate(7.2 25.745208)scale(0.1 -0.1)\">\n       <use xlink:href=\"#DejaVuSans-49\"/>\n       <use x=\"63.623047\" xlink:href=\"#DejaVuSans-50\"/>\n       <use x=\"127.246094\" xlink:href=\"#DejaVuSans-48\"/>\n       <use x=\"190.869141\" xlink:href=\"#DejaVuSans-48\"/>\n      </g>\n     </g>\n    </g>\n   </g>\n   <g id=\"patch_13\">\n    <path d=\"M 39.65 224.64 \nL 39.65 7.2 \n\" style=\"fill:none;stroke:#000000;stroke-linecap:square;stroke-linejoin:miter;stroke-width:0.8;\"/>\n   </g>\n   <g id=\"patch_14\">\n    <path d=\"M 374.45 224.64 \nL 374.45 7.2 \n\" style=\"fill:none;stroke:#000000;stroke-linecap:square;stroke-linejoin:miter;stroke-width:0.8;\"/>\n   </g>\n   <g id=\"patch_15\">\n    <path d=\"M 39.65 224.64 \nL 374.45 224.64 \n\" style=\"fill:none;stroke:#000000;stroke-linecap:square;stroke-linejoin:miter;stroke-width:0.8;\"/>\n   </g>\n   <g id=\"patch_16\">\n    <path d=\"M 39.65 7.2 \nL 374.45 7.2 \n\" style=\"fill:none;stroke:#000000;stroke-linecap:square;stroke-linejoin:miter;stroke-width:0.8;\"/>\n   </g>\n  </g>\n </g>\n <defs>\n  <clipPath id=\"p523e357bf2\">\n   <rect height=\"217.44\" width=\"334.8\" x=\"39.65\" y=\"7.2\"/>\n  </clipPath>\n </defs>\n</svg>\n",
      "text/plain": "<Figure size 432x288 with 1 Axes>"
     },
     "metadata": {
      "needs_background": "light"
     },
     "output_type": "display_data"
    }
   ],
   "source": [
    "plt.hist(pd.to_datetime(df['accidentdate']))"
   ]
  },
  {
   "cell_type": "code",
   "execution_count": 9,
   "metadata": {},
   "outputs": [
    {
     "data": {
      "text/html": "<div>\n<style scoped>\n    .dataframe tbody tr th:only-of-type {\n        vertical-align: middle;\n    }\n\n    .dataframe tbody tr th {\n        vertical-align: top;\n    }\n\n    .dataframe thead th {\n        text-align: right;\n    }\n</style>\n<table border=\"1\" class=\"dataframe\">\n  <thead>\n    <tr style=\"text-align: right;\">\n      <th></th>\n      <th>id</th>\n      <th>accidentdate</th>\n      <th>countryabbr</th>\n      <th>state</th>\n      <th>river</th>\n      <th>section</th>\n      <th>location</th>\n      <th>waterlevel</th>\n      <th>rellevel</th>\n      <th>difficulty</th>\n      <th>age</th>\n      <th>experience</th>\n      <th>privcomm</th>\n      <th>boattype</th>\n      <th>groupinfo</th>\n      <th>numvictims</th>\n      <th>description</th>\n      <th>type</th>\n      <th>cause</th>\n      <th>status</th>\n    </tr>\n  </thead>\n  <tbody>\n    <tr>\n      <th>0</th>\n      <td>-2638</td>\n      <td>2001-12-08</td>\n      <td>US</td>\n      <td>PA</td>\n      <td>Meadow Run</td>\n      <td>NaN</td>\n      <td>Slides above 381 Bridge</td>\n      <td>NaN</td>\n      <td>M</td>\n      <td>V</td>\n      <td>NaN</td>\n      <td>NaN</td>\n      <td>P</td>\n      <td>K</td>\n      <td>NaN</td>\n      <td>0.0</td>\n      <td>&lt;p&gt;Non-Witness Narrative by ccw on 2008-01-14 ...</td>\n      <td>I</td>\n      <td>11.0</td>\n      <td>D</td>\n    </tr>\n    <tr>\n      <th>1</th>\n      <td>5</td>\n      <td>1979-10-21</td>\n      <td>US</td>\n      <td>SC</td>\n      <td>Chattooga</td>\n      <td>Section 4 - Route 76 Bridge to Tugaloo Lake Bo...</td>\n      <td>Jawbone</td>\n      <td>1.55</td>\n      <td>NaN</td>\n      <td>IV+</td>\n      <td>20.0</td>\n      <td>X</td>\n      <td>C</td>\n      <td>K</td>\n      <td>NaN</td>\n      <td>1.0</td>\n      <td>&lt;p&gt;\\r\\n\\tDescription: The Chatooga River forms...</td>\n      <td>F</td>\n      <td>15.0</td>\n      <td>R</td>\n    </tr>\n    <tr>\n      <th>2</th>\n      <td>3</td>\n      <td>1978-05-13</td>\n      <td>US</td>\n      <td>ID</td>\n      <td>Payette, S. Fork (2 - Deadwood River to Danski...</td>\n      <td>2 - Deadwood River to Danskin Station (The Can...</td>\n      <td>Class 3-4 Chute Below Falls</td>\n      <td>NaN</td>\n      <td>M</td>\n      <td>IV</td>\n      <td>55.0</td>\n      <td>E</td>\n      <td>P</td>\n      <td>K</td>\n      <td>NaN</td>\n      <td>1.0</td>\n      <td>&lt;p&gt;\\r\\n\\tOn May 13, 1978 Dr. Walt Blackadar di...</td>\n      <td>F</td>\n      <td>14.0</td>\n      <td>R</td>\n    </tr>\n    <tr>\n      <th>3</th>\n      <td>17</td>\n      <td>1983-01-14</td>\n      <td>CI</td>\n      <td>I</td>\n      <td>Bio-Bio (Chile)</td>\n      <td>NaN</td>\n      <td>Lost Yak Rapid</td>\n      <td>20K</td>\n      <td>H</td>\n      <td>V</td>\n      <td>0.0</td>\n      <td>I</td>\n      <td>C</td>\n      <td>R</td>\n      <td>NaN</td>\n      <td>1.0</td>\n      <td>&lt;p&gt;\\r\\n\\tOn January 14, 1983 Ted Davis lost hi...</td>\n      <td>F</td>\n      <td>7.0</td>\n      <td>R</td>\n    </tr>\n    <tr>\n      <th>4</th>\n      <td>538</td>\n      <td>1999-05-07</td>\n      <td>US</td>\n      <td>CA</td>\n      <td>Dinkey Creek</td>\n      <td>2. Dinkey Creek Campgrounds to logging spur road</td>\n      <td>Entrance to Cherry Bomb Falls</td>\n      <td>500-600 cfs</td>\n      <td>M</td>\n      <td>V</td>\n      <td>43.0</td>\n      <td>E</td>\n      <td>P</td>\n      <td>K</td>\n      <td>NaN</td>\n      <td>1.0</td>\n      <td>&lt;p&gt;\\r\\n\\t&lt;span style=\"font-size: 10pt;\"&gt;Dinkey...</td>\n      <td>F</td>\n      <td>4.0</td>\n      <td>R</td>\n    </tr>\n  </tbody>\n</table>\n</div>",
      "text/plain": "     id accidentdate countryabbr state  \\\n0 -2638   2001-12-08          US    PA   \n1     5   1979-10-21          US    SC   \n2     3   1978-05-13          US    ID   \n3    17   1983-01-14          CI    I    \n4   538   1999-05-07          US    CA   \n\n                                               river  \\\n0                                         Meadow Run   \n1                                         Chattooga    \n2  Payette, S. Fork (2 - Deadwood River to Danski...   \n3                                    Bio-Bio (Chile)   \n4                                       Dinkey Creek   \n\n                                             section  \\\n0                                                NaN   \n1  Section 4 - Route 76 Bridge to Tugaloo Lake Bo...   \n2  2 - Deadwood River to Danskin Station (The Can...   \n3                                                NaN   \n4   2. Dinkey Creek Campgrounds to logging spur road   \n\n                        location   waterlevel rellevel difficulty   age  \\\n0        Slides above 381 Bridge          NaN        M          V   NaN   \n1                        Jawbone         1.55      NaN        IV+  20.0   \n2    Class 3-4 Chute Below Falls          NaN        M         IV  55.0   \n3                 Lost Yak Rapid          20K        H          V   0.0   \n4  Entrance to Cherry Bomb Falls  500-600 cfs        M          V  43.0   \n\n  experience privcomm boattype groupinfo  numvictims  \\\n0        NaN        P        K       NaN         0.0   \n1          X        C        K       NaN         1.0   \n2          E        P        K       NaN         1.0   \n3          I        C        R       NaN         1.0   \n4          E        P        K       NaN         1.0   \n\n                                         description type  cause status  \n0  <p>Non-Witness Narrative by ccw on 2008-01-14 ...    I   11.0      D  \n1  <p>\\r\\n\\tDescription: The Chatooga River forms...    F   15.0      R  \n2  <p>\\r\\n\\tOn May 13, 1978 Dr. Walt Blackadar di...    F   14.0      R  \n3  <p>\\r\\n\\tOn January 14, 1983 Ted Davis lost hi...    F    7.0      R  \n4  <p>\\r\\n\\t<span style=\"font-size: 10pt;\">Dinkey...    F    4.0      R  "
     },
     "execution_count": 9,
     "metadata": {},
     "output_type": "execute_result"
    }
   ],
   "source": [
    "df.head()"
   ]
  },
  {
   "cell_type": "code",
   "execution_count": 8,
   "metadata": {},
   "outputs": [
    {
     "data": {
      "text/plain": "IV      477\nIII     388\nII      284\nV       278\nI       153\nIV+      48\nVI       42\nIII+     31\nV+       16\nII+      11\nIV-       1\nName: difficulty, dtype: int64"
     },
     "execution_count": 8,
     "metadata": {},
     "output_type": "execute_result"
    }
   ],
   "source": [
    "df['difficulty'].value_counts()"
   ]
  },
  {
   "cell_type": "code",
   "execution_count": 9,
   "metadata": {},
   "outputs": [
    {
     "data": {
      "text/plain": "F    1616\nI     569\nM     339\n       12\nName: type, dtype: int64"
     },
     "execution_count": 9,
     "metadata": {},
     "output_type": "execute_result"
    }
   ],
   "source": [
    "df['type'].value_counts()"
   ]
  },
  {
   "cell_type": "code",
   "execution_count": 10,
   "metadata": {},
   "outputs": [
    {
     "data": {
      "text/plain": "1.0    1425\n0.0     542\n2.0      88\n3.0      21\n4.0       4\n5.0       3\n8.0       2\nName: numvictims, dtype: int64"
     },
     "execution_count": 10,
     "metadata": {},
     "output_type": "execute_result"
    }
   ],
   "source": [
    "df['numvictims'].value_counts()"
   ]
  },
  {
   "cell_type": "code",
   "execution_count": 11,
   "metadata": {},
   "outputs": [
    {
     "data": {
      "text/plain": "K    801\nR    693\nO    290\nN    282\nT    154\nI    114\nName: boattype, dtype: int64"
     },
     "execution_count": 11,
     "metadata": {},
     "output_type": "execute_result"
    }
   ],
   "source": [
    "df['boattype'].value_counts()"
   ]
  },
  {
   "cell_type": "code",
   "execution_count": 12,
   "metadata": {},
   "outputs": [
    {
     "data": {
      "text/plain": "\"<p>Non-Witness Narrative by ccw on 2008-01-14 (okay to publish):  Acott Loveland Injured on Slides of Meadow Creek, Ohiopyle PA  Posted: Sat Jan 12, 2008 8:39 pm   Best Wishes For A Speedy Recovery To Scot Loveland   I wanted to update everyone on Scott's status, to stop any rumors, bring everyone up to speed, and allow everyone to send their best hopes and prayers on for his speedy recovery.  Today, 1/12/08 Scott flipped over in the Class V Slides rapid of Meadow Run in Ohiopyle and sustained a sharp blow to his head and/or neck. He was recovered by boaters in the pool at the bottom, where he complained of neck pain and numbness in his right arm. Paramedics were called to the scene, and it was decided that he would be life flighted to a trauma hospital in Pittsburgh.  There is good and bad news to follow: The bad is that Scott sustained a fracture to one of the vertebrae in his neck. The good news is that he has feeling and motion in all of limbs. They are waiting for an MRI to decide how to progress with his treatment from here.  Our thoughts go out to him and his family in the troubled times ahead, may you have a speedy rec overy. Our thoughts also go out to Jeff, Derek and Jesse whose quick and appropriate action on the scene likely aided in maintaining Scott's mental and physical where-with-all following the accident.</p>\""
     },
     "execution_count": 12,
     "metadata": {},
     "output_type": "execute_result"
    }
   ],
   "source": [
    "df['description'][0]"
   ]
  },
  {
   "cell_type": "code",
   "execution_count": 13,
   "metadata": {},
   "outputs": [
    {
     "data": {
      "text/plain": "'I'"
     },
     "execution_count": 13,
     "metadata": {},
     "output_type": "execute_result"
    }
   ],
   "source": [
    "df['type'][0]"
   ]
  },
  {
   "cell_type": "code",
   "execution_count": 14,
   "metadata": {},
   "outputs": [],
   "source": [
    "m = df[df['type'] == 'M']"
   ]
  },
  {
   "cell_type": "code",
   "execution_count": 15,
   "metadata": {},
   "outputs": [
    {
     "data": {
      "text/plain": "n my head. They were floating into Ambulance Run, the shallow class 2 rapid before the jumping rock pool above Hospital Bar. Ambulance Ran is shallow and rocky on the left and clean on the right. My immediate concern was that Dave would swim Ambulance Run, lose consciousness, and get a foot entrapment. Approaching the rapid with Dave clinging to the front of our boat, our expert shouted for help.&nbsp;</div>\\r\\n\\t<div>\\r\\n\\t\\t&nbsp;</div>\\r\\n\\t<div>\\r\\n\\t\\tA second kayaker from our group and I rafted-up with our expert. We had a three kayak raft, with Dave barely holding onto the front of our expert&#39;s boat. The expert and I one-armed paddled us towards river right. Our middle kayak used both hands to hold our raft together. Fortunately, we got right, missing the boof rock at the middle bottom of the rapid by a few feet. To Dave&#39;s credit, he hung on like a champ through the wave train. We got to shore on river left at the beginning of the jump rock pool, upstream of Hospital Bar. The two other kayakers, my crew&#39;s diabetic expert and our EMT, and I got Dave out of the water. We immediately knew that Dave&#39;s hypothermia was moving from functionally cold to dangerous. We were now in scary hypothermia territory. Dave still knew his who/what/when/where questions. Turns out this was is 48th birthday and he was getting back into kayaking with his friend Peter after a 15 year hiatus. They used to run class 4 together. Dave was becoming slower and more distant. Dave&#39;s hypothermia was getting worse.&nbsp;Our EMT immediately started monitoring him closely, keeping him moving and his spirits up. We asked about his medial history some more, especially for any heart issues or leg injuries (in case he needed to hike out). He had nothing else to worry about. I fed him snacks from the diabetic&#39;s spare snack reserves. She kept what she needed to maintain her blood sugar. The sun was down and we had about 45 minutes of graylight left. There was no moon in the sky. Jeff, Ellis, and the rest of Dave&#39;s group were bringing Dave&#39;s boat and paddle downstream. I decided to call 911.</div>\\r\\n\\t<div>\\r\\n\\t\\t&nbsp;</div>\\r\\n\\t<div>\\r\\n\\t\\t<b>Calling Search and Rescue</b></div>\\r\\n\\t<div>\\r\\n\\t\\t&nbsp;</div>\\r\\n\\t<div>\\r\\n\\t\\tAt about 4:30pm, I decided to call 911 on our expert&#39;s Verizon phone. I credit my OA Sea Kayaking Guide School 2011 trainers here. They taught me that the moment you call 911 is the first time you ask yourself, &quot;Should I call 911?&quot;. I thought it for the first time here. I&#39;m thankful my group had at least one Verizon phone. I&#39;m thankful the phone was immediately available, not upstream. I called 911 within a minute of deciding we needed it. On river left, where the canyon wall is steep, the call kept dropping. I told 911 dispatch the most important things, &quot;South Fork American...Hospital Bar...hypothermia&quot;. The 911 dispatch didn&#39;t know where the South Fork American is. Fortunately, she called the El Dorado County Sheriff and they started calling us repeatedly. The calls kept dropping. Dave and Ellis brought Dave&#39;s kayak and paddle downstream to us. The group of nine was all together on riverleft. We were still thinking that Dave would hike out on a trail on river right above Hospital Bar. We asked Dave if he could paddle across flat water to river right. He said yes. Our group crossed the river. I paddled across last because I was on the phone. The expert left me with her dry-bag, which had her diabetes medication and snacks.&nbsp;<i>When I paddled across, I gave her the drybag back because I didn&#39;t want her to forget her meds and snacks.&nbsp;</i></div>\\r\\n\\t<div>\\r\\n\\t\\t&nbsp;</div>\\r\\n\\t<div>\\r\\n\\t\\tWith 30 minutes of graylight left, we were now across the river from the jumping rock in the pool above Hospital Bar. We knew Dave wasn&#39;t going back on the river, so we got him into dry clothes. Ellis, Jeff, and our expert gave Dave their own layers. Our expert gave Dave her take-out clothes. Jeff gave Dave the beanie he keeps in his first aid kit. Our expert, lacking a dry-suit was now underdressed for the cold. The rest of us were cold but could function better. Our EMT continued to monitor Dave and asked about his medical history. The headlamp was now in use.&nbsp;</div>\\r\\n\\t<div>\\r\\n\\t\\t&nbsp;</div>\\r\\n\\t<div>\\r\\n\\t\\tI got up on a rock and started talking to SAR. We described our location, and then used Google maps to drop a pin for lat/long coordinates. They told us they were launching a Zodiac from Skunk Hallow and sending in a hiking crew on Kanaka Road (the road that goes to Bouncing Rock) on river left. No helicopters were available (probably fighting wildfires in SoCal). SAR told us to keep Dave warm and in place because we were far from any trail. The trail we sought was several hundred feet uphill of us. We couldn&#39;t hike to it. Before the dry clothes, I&#39;m told Dave started dropping from alert to verbally responsive. His level of consciousness was falling. Once he was in mostly dry clothes, he stabilized. I was talking too loudly too close the group. Our expert reminded me to move away from the patient.</div>\\r\\n\\t<div>\\r\\n\\t\\t&nbsp;</div>\\r\\n\\t<div>\\r\\n\\t\\tWith 15 minutes of graylight left, it was time for most people to leave. Ellis, Jeff, and our expert, the WOOFR without the dry-suit and with diabetes, decided to leave. They could support the two kayakers from Dave&#39;s group (the experienced kayaker and the nervous but mostly confident class 3 kayaker) and look out for each other. Plus, Jeff and Ellis know the remaining rapids well. Plus, they could assist SAR at Skunk Hallow. <em>(Jeff: PLUS, SAR extraction of a large group + kayaks seemed problematic at best. We determined we could be no more use on-site, and that Dave was stable, then determined to reduce the ultimate extraction burden for SAR in the case that Helicopter was the option. I became insistent that those who were capable of paddling out needed to do so NOW, despite an imperfect scene scenario, as leaving supplies and heading downstream we likely to be the most useful the large group could be).</em></div>\\r\\n\\t<div>\\r\\n\\t\\t&nbsp;</div>\\r\\n\\t<div>\\r\\n\\t\\tWe knew Dave, his friend Peter, and one of our group would stay. It was between the EMT and I. I offered to stay because Dave was in dry-clothes and stablish, I know the river super well, had been on the phone with SAR the most, and felt confident I could build a fire with Jeff&#39;s storm-proof matches, lighters, and first aid kit. If I could build a fire, then I knew Dave would remain warm until SAR arrived. The EMT, though a stout boater, was running the Gorge for only their second time. She left with the rest of kayakers. We choose to not leave two of our group behind because we didn&#39;t want to increase the burden on SAR. The group put Dave&#39;s spray skirt on my kayak and towed it with a rescue vest all the way to take-out. Unfortunately, they took my helmet and water. They also left Jeff&#39;s headlamp, first aid kit, which included some clutch components: a WOOFA manual, a rite-in-the-rain notepad and pencil, matches and lighters. We had my first aid kit too. Our crew left extra pogies in case we needed them for our hands. I keep spare AAA and AA batteries, a sam-splint, and an ankle brace in my first aid kit. We could have replaced batteries in the headlamp.</div>\\r\\n\\t<div>\\r\\n\\t\\t&nbsp;</div>\\r\\n\\t<div>\\r\\n\\t\\tThe decision to leave Jeff&#39;s headlamp was tough. It&#39;s waterproof and they could have used it to get safely down-river. However, they decided to leave it with us. Without it, we would have struggled to build and light the fire. Jeff and I agreed this was the right choice. I&#39;m thankful we had it.</div>\\r\\n\\t<div>\\r\\n\\t\\t&nbsp;</div>\\r\\n\\t<div>\\r\\n\\t\\t<b>Campfire</b></div>\\r\\n\\t<div>\\r\\n\\t\\t&nbsp;</div>\\r\\n\\t<div>\\r\\n\\t\\tIt was now about 5pm. We had 10 minutes of graylight left. SAR was on the way. I knew that communication and calm leadership was important from here on-out. I clearly told my party what the whistle blasts were for or what they meant. I instructed Peter and Dave to gather wood and grass with <em>(the)</em> headlamp. They were in good spirits. I reminded them to walk carefully. Dave was doing great. He was functionally cold. He had warmed out of scary territory. I built a fire ring safe from nearby vegetation. We were about 25 feet from the river, on sand and rocks. After 20 minutes and a few false starts, we got a fire going. We burned most of Jeff&#39;s rite-in-the-rain paper, finally lighting the small twigs. From there, the fire was burning and we slowly added bigger sticks. The fire gave us all something to do and ended up keeping us plenty warm. Everyone was in good spirits. Peter used his Verizon phone to contact Dave&#39;s family. Dave got to talk to his wife and daughters and tell them everything was ok. The fire helped SAR find us too. Without it, our only other light was Jeff&#39;s headlamp.</div>\\r\\n\\t<div>\\r\\n\\t\\t&nbsp;</div>\\r\\n\\t<div>\\r\\n\\t\\tAround 6:30pm, we could see the flood lights from SAR&#39;s hiking party across the river, on river left. Their dispatch called on our expert&#39;s Verizon phone. He asked us to blast the whistles non-stop. He also asked if we could bring Dave across the river. We only had two kayaks and Dave was finally warm and stable. I didn&#39;t want to risk getting Dave wet. Dave said he wasn&#39;t able to paddle across. We told the dispatch no. I gave dispatch Peter&#39;s phone number. Our expert&#39;s phone had low battery. The hiking party reached the jump rock on river left and started shouting at us. I decided to paddle across to establish communication with the SAR hiking party. Keeping communication in mind, I told Peter that one whistle blast meant I was coming back, and for him to come down to the river. I used Dave&#39;s helmet, boat, and paddle to cross the river. My gear was at Skunk Hollow by now. I shouted at the hiking party to light up the river with their handheld flood lights so I could paddle across. They did great. I shared information with the hiking party. SAR told us they were launching a raft from Kanaka Road across from Bouncing Rock. They told us to hang tight and keep Dave warm. I told them I was going to whistle to tell Peter I was coming back. I told the SAR guys to whistle if they wanted me to come back. This pre-established a method for us to communicate with each other.</div>\\r\\n\\t<div>\\r\\n\\t\\t&nbsp;</div>\\r\\n\\t<div>\\r\\n\\t\\tWe kept the fire going. Peter collected plenty of wood. I told Dave to take off wet socks and dry them on rocks by the fire. Peter did a great job supporting Dave, keeping him talking and in good spirits. We shared boating stories. Both of them live in Davis. They kayaked a lot of class 4 and 5 in their 20s. They stopped after injuries and/or kids. Fifteen years later, they wanted to get back into it. I kept an eye on Dave to make sure he didn&#39;t burn himself. I tried to take his pulse several times, but could only find it and count it once. This is my own flaw, I have trouble finding people&#39;s pulses. I did write down the measurement. It was 60 bpm at 7pm. He was warm and talking. I was disappointed with myself for not being better at this, but I was also confident that he was warming up. I will practice this skill. Dave&#39;s skin temperature was rising and his alertness was increasing. After I kayaked across the river and back, his hands were warmer than mine.</div>\\r\\n\\t<div>\\r\\n\\t\\t&nbsp;</div>\\r\\n\\t<div>\\r\\n\\t\\t<b>Egress</b></div>\\r\\n\\t<div>\\r\\n\\t\\t&nbsp;</div>\\r\\n\\t<div>\\r\\n\\t\\tAt 8pm, the raft arrived. A local guide on his private 14ft raft with 4 SAR persons, all wearing dry-suits. They had a thermos of hot water for Dave. SAR took over monitoring Dave and helped him get into the raft. Peter got into the raft. SAR rigged Dave&#39;s kayak and paddle into the raft. I offered to safety kayak with Peter&#39;s Nomad 8.6. I felt safer having safety in the water in case someone fell out of the raft at Hospital Bar, I have the same creek boat and I know that my rand spray skirt will fit over the cockpit. If you have a rand skirt, don&#39;t assume it will fit over any cockpit. My rand spray skirt was to small for Dave&#39;s boat. I could see Hospital Bar, Recovery Room, and Surprise in my head. During shuttle, I knew the reservoir was low enough for a couple bonus rapids after Surprise. I know those have rocks to avoid and some small waves. The SAR guys told me they felt safer having a kayak in front to set downstream safety and show the lines. The SAR raft guide knew the lines too. I checked in with him.</div>\\r\\n\\t<div>\\r\\n\\t\\t&nbsp;</div>\\r\\n\\t<div>\\r\\n\\t\\tThe raft and I left around 8:20pm. There was no natural light in the sky. No moon. On the raft, Peter used a handheld flood light to light up the river as best as possible. The frothing white of waves is easy to see. Rocks are invisible.&nbsp; The raft guide was solid, but we both felt better having me in front. I entered the Hospital Bar riffles middle left to avoid the hole at the bottom. I should have gone more right. I bounced over some rocks. That was the only scary part of the night kayak. The raft stayed more right. We missed the big hole and ran the bonus rapids clean. Approaching each bonus rapid, I communicated lines with the raft guide. I used simple arm gestures to show which part of the river was cleanest. This safety measure ensured he stayed away from rocks and sticky holes. Recovery Room is clean down the left. You can skirt Surprise on the right. We avoided rocks in the bonus rapids and met the zodiac in the reservoir. They towed us to Skunk Hallow where we met the cavalry. They warmed up Dave while I debriefed with my group.&nbsp;</div>\\r\\n\\t<div>\\r\\n\\t\\t&nbsp;</div>\\r\\n\\t<div>\\r\\n\\t\\tEllis and our expert had run shuttle and got into warm clothes. Jeff had gone hiking upstream with a <em>(group of firemen carrying stretcher and supplies, in case the river extraction proved not to be an option).</em>They walked upstream from the Skunk Hallow trail on river right. When they trail got to where Hospital Bar is, they were a quarter mile uphill from the river. This was the trail we originally thought we&#39;d hike out on. Unfortunately, it wasn&#39;t close to the river.</div>\\r\\n\\t<div>\\r\\n\\t\\t&nbsp;</div>\\r\\n\\t<div>\\r\\n\\t\\t<u><b>Lessons for Winter Boating: Prep for getting stuck on the river in the dark and the cold</b></u></div>\\r\\n\\t<div>\\r\\n\\t\\t<ol>\\r\\n\\t\\t\\t<li style=\"margin-left: 15px;\">\\r\\n\\t\\t\\t\\tStart earlier in the day.&nbsp;</li>\\r\\n\\t\\t\\t<li style=\"margin-left: 15px;\">\\r\\n\\t\\t\\t\\tBring a water-proof map. Know your egress points. If the paper isn&#39;t waterproof, add it your first aid kit.</li>\\r\\n\\t\\t\\t<li style=\"margin-left: 15px;\">\\r\\n\\t\\t\\t\\tEveryone needs a drysuit with sufficient layers and river shoes. Even if you are confident that you won&#39;t swim, someone else might. If someone has a cold swim, get out of your boat to help drain their boat.</li>\\r\\n\\t\\t\\t<li style=\"margin-left: 15px;\">\\r\\n\\t\\t\\t\\tPack dry clothes in your drybag. Pack more water and food then you think you need. Larry Gunther taught me to keep snickers in my PFD.</li>\\r\\n\\t\\t\\t<li style=\"margin-left: 15px;\">\\r\\n\\t\\t\\t\\tAdd a beanie, headlamp + batteries, storm matches and lighters, and paper to burn, space blanket, and plastic jar of peanut butter to your first aid kit.</li>\\r\\n\\t\\t\\t<li style=\"margin-left: 15px;\">\\r\\n\\t\\t\\t\\tCarry a breakdown paddle. We started with 4 paddles and one set of hand paddles. After our expert starting rafting up with Dave, Ellis used the hand paddles like a champ during the middle of the scenario. He was able to paddle out with my paddle.&nbsp;</li>\\r\\n\\t\\t\\t<li style=\"margin-left: 15px;\">\\r\\n\\t\\t\\t\\tMake sure someone has a Verizon phone. Make sure it&#39;s charged and/or bring a fully charged USB charger. Program the number for the El Dorado County Sherriff. They know the river. Calling 911 worked, but it was slower. Calls will drop. Open the call with location and injury, &quot;South Fork American, Hospital bar, hypothermia&quot;. If you boat other rivers, add the county sheriff number for that county too. Know how to drop a pin on google maps and find the lat/long. I struggled here.</li>\\r\\n\\t\\t\\t<li style=\"margin-left: 15px;\">\\r\\n\\t\\t\\t\\tPractice building a fire anywhere you can with different fire starting tools and different materials. Practice in a fireplace, backyard fire ring, or out camping. Practice with wet and dry kindling. Building a fire kept Dave stable and kept Peter and I from getting cold and becoming victims too.</li>\\r\\n\\t\\t\\t<li style=\"margin-left: 15px;\">\\r\\n\\t\\t\\t\\tAdd glowsticks and zip ties to your first aid kit. I could have attached these to my PFD, increasingly my visibility on the egress.</li>\\r\\n\\t\\t\\t<li style=\"margin-left: 15px;\">\\r\\n\\t\\t\\t\\tIf you&#39;re warm in the parking lot, wear the extra layer or pack it in your drybag.&nbsp;</li>\\r\\n\\t\\t\\t<li style=\"margin-left: 15px;\">\\r\\n\\t\\t\\t\\tHelp cold swimmers drain their boats, especially if they don&#39;t have drysuits. Don&#39;t let them stand in the water.</li>\\r\\n\\t\\t</ol>\\r\\n\\t\\t<div>\\r\\n\\t\\t\\t<u><b>Other Lessons</b></u></div>\\r\\n\\t</div>\\r\\n\\t<div>\\r\\n\\t\\t<ol>\\r\\n\\t\\t\\t<li style=\"margin-left: 15px;\">\\r\\n\\t\\t\\t\\tKeep track of key gear, including keys, phones, meds, and first aid kits. People were trading drybags and gear. I made sure our diabetic expert wasn&#39;t separated from her meds and snacks. While I kept my drybag at the campfire, I made sure my car keys went downstream with Ellis.&nbsp;</li>\\r\\n\\t\\t\\t<li style=\"margin-left: 15px;\">\\r\\n\\t\\t\\t\\tCheck-in with your crew and with people that join your group. Ask if they are comfortable with the next rapid, can roll, and know the lines. Keep track of everyone else&#39;s temperature too.</li>\\r\\n\\t\\t\\t<li style=\"margin-left: 15px;\">\\r\\n\\t\\t\\t\\tMaintain communication within your crew. Know what whistle blasts mean.</li>\\r\\n\\t\\t\\t<li style=\"margin-left: 15px;\">\\r\\n\\t\\t\\t\\tOnly kayak in these conditions if you are solid, can see the lines in your head, and are adding safety. I am comfortable with my decision to night paddle. I wanted to support the raft and help it find safe lines. I knew I was less likely to swim from my kayak than someone else&#39;s raft. The only mistake I made on the night paddle was going to far left on the riffle entrance to Hospital Bar. Everything else was smooth. Rocks are harder to see by flash light than waves. If I had to do it again, I would have stuck to the waves more.&nbsp;</li>\\r\\n\\t\\t\\t<li style=\"margin-left: 15px;\">\\r\\n\\t\\t\\t\\tIf you have a rand skirt, don&#39;t assume it will fit on any boat.</li>\\r\\n\\t\\t\\t<li style=\"margin-left: 15px;\">\\r\\n\\t\\t\\t\\tIf you are good at an outdoor sport, take a long break, and then come back in 15 years, don&#39;t assume you can run the same stuff you used to run. Start small and rebuild your skills.</li>\\r\\n\\t\\t</ol>\\r\\n\\t</div>\\r\\n\\t<div>\\r\\n\\t\\tI&#39;m confident that my group, working as a well-communicating team, helped saved Dave&#39;s life. We have learned from the mistakes we made on the river and in the gear we didn&#39;t bring. I&#39;m proud of my group because when we made a mistake on the river, we fixed it. We stabilized Dave and helped egress him. If we had known our egress points, this would have gone smoother. Everyone in my crew contributed solution-oriented ideas, actions, gear, and positive morale to the rescue. I am thankful for my training and time with the whole OA community, not just the boaters. We&#39;ve got a stellar group of people that teach excellent skills. We always take initiative and rise to the occasion. I&#39;m proud to be part of the OA community. I hope this story and lessons are educational.&nbsp;</div>\\r\\n\\t<div>\\r\\n\\t\\t&nbsp;</div>\\r\\n\\t<div>\\r\\n\\t\\tStay safe out there,</div>\\r\\n\\t<div>\\r\\n\\t\\tKevin</div>\\r\\n</div>\\r\\n<p>\\r\\n\\t&nbsp;</p>\\r\\n'"
     },
     "execution_count": 15,
     "metadata": {},
     "output_type": "execute_result"
    }
   ],
   "source": [
    "m.reset_index(drop=True, inplace=True)\n",
    "m['description'][0]"
   ]
  },
  {
   "cell_type": "code",
   "execution_count": 16,
   "metadata": {},
   "outputs": [
    {
     "data": {
      "text/plain": "<bound method DataFrame.info of          id accidentdate countryabbr state  \\\n0     -2638   2001-12-08          US    PA   \n1         5   1979-10-21          US    SC   \n2         3   1978-05-13          US    ID   \n3        17   1983-01-14          CI    I    \n4       538   1999-05-07          US    CA   \n...     ...          ...         ...   ...   \n2538  53753   2019-10-26          US    AL   \n2539     45   1987-08-01          CA    BC   \n2540  50524   2019-09-21          US    MD   \n2541  49855   2019-05-17          US    MD   \n2542  58181   2019-12-01          US    TN   \n\n                                                  river  \\\n0                                            Meadow Run   \n1                                            Chattooga    \n2     Payette, S. Fork (2 - Deadwood River to Danski...   \n3                                       Bio-Bio (Chile)   \n4                                          Dinkey Creek   \n...                                                 ...   \n2538                                             Little   \n2539                                             Chilko   \n2540                                            Potomac   \n2541                                       Youghiogheny   \n2542                                     Richland Creek   \n\n                                                section  \\\n0                                                   NaN   \n1     Section 4 - Route 76 Bridge to Tugaloo Lake Bo...   \n2     2 - Deadwood River to Danskin Station (The Can...   \n3                                                   NaN   \n4      2. Dinkey Creek Campgrounds to logging spur road   \n...                                                 ...   \n2538                             1. Hwy 35 to Upper Two   \n2539                                                NaN   \n2540  2. GW Canal Loop or Violette's Lock to Pennyfi...   \n2541                                           3. Upper   \n2542    Old Dayton Reservoir to Laurel-Snow Parking Lot   \n\n                                               location   waterlevel rellevel  \\\n0                               Slides above 381 Bridge          NaN        M   \n1                                               Jawbone         1.55      NaN   \n2                           Class 3-4 Chute Below Falls          NaN        M   \n3                                        Lost Yak Rapid          20K        H   \n4                         Entrance to Cherry Bomb Falls  500-600 cfs        M   \n...                                                 ...          ...      ...   \n2538                                                NaN      200 cfs        L   \n2539                                         White Mile   10,000 cfs        H   \n2540                                       Below Dam #2          NaN        L   \n2541                                                NaN         2.5'        M   \n2542  a bad log in the right side of Screaming Left ...          NaN      NaN   \n\n     difficulty   age experience privcomm boattype   groupinfo  numvictims  \\\n0             V   NaN        NaN        P        K         NaN         0.0   \n1           IV+  20.0          X        C        K         NaN         1.0   \n2            IV  55.0          E        P        K         NaN         1.0   \n3             V   0.0          I        C        R         NaN         1.0   \n4             V  43.0          E        P        K         NaN         1.0   \n...         ...   ...        ...      ...      ...         ...         ...   \n2538        IV+  41.0        NaN        P        K  2 Paddlers         NaN   \n2539          V  40.0          I        C        R         NaN         5.0   \n2540         II  66.0        NaN        P        K         NaN         NaN   \n2541          V  59.0        NaN        C        R         NaN         NaN   \n2542        IV+  31.0          E        P        K    3 kayaks         NaN   \n\n                                            description type  cause status  \n0     <p>Non-Witness Narrative by ccw on 2008-01-14 ...    I   11.0      D  \n1     <p>\\r\\n\\tDescription: The Chatooga River forms...    F   15.0      R  \n2     <p>\\r\\n\\tOn May 13, 1978 Dr. Walt Blackadar di...    F   14.0      R  \n3     <p>\\r\\n\\tOn January 14, 1983 Ted Davis lost hi...    F    7.0      R  \n4     <p>\\r\\n\\t<span style=\"font-size: 10pt;\">Dinkey...    F    4.0      R  \n...                                                 ...  ...    ...    ...  \n2538  <p class=\"MsoNormal\"><span style=\"font-size:12...    F    NaN      D  \n2539  <p>\\r\\n\\tWhat started out as an adventurous ho...    F    NaN      R  \n2540  <p class=\"MsoNormal\"><span style=\"font-size:12...    M    NaN      R  \n2541  <div style=\"font-family:Arial, Helvetica, sans...    F    NaN      R  \n2542  <p class=\"MsoNormal\" style=\"margin-bottom:.000...    F    NaN      R  \n\n[2543 rows x 20 columns]>"
     },
     "execution_count": 16,
     "metadata": {},
     "output_type": "execute_result"
    }
   ],
   "source": [
    "df.info"
   ]
  },
  {
   "cell_type": "code",
   "execution_count": 17,
   "metadata": {},
   "outputs": [
    {
     "data": {
      "text/plain": "M    711\nH    706\nL    245\nF     68\nName: rellevel, dtype: int64"
     },
     "execution_count": 17,
     "metadata": {},
     "output_type": "execute_result"
    }
   ],
   "source": [
    "df['rellevel'].value_counts()"
   ]
  },
  {
   "cell_type": "code",
   "execution_count": 18,
   "metadata": {},
   "outputs": [
    {
     "data": {
      "text/plain": "     619\nE    543\nI    540\nS    201\nX    101\nName: experience, dtype: int64"
     },
     "execution_count": 18,
     "metadata": {},
     "output_type": "execute_result"
    }
   ],
   "source": [
    "df['experience'].value_counts()"
   ]
  },
  {
   "cell_type": "code",
   "execution_count": 19,
   "metadata": {},
   "outputs": [
    {
     "data": {
      "text/plain": "CO    259\nCA    176\nWV    176\nPA    137\nID    134\n     ... \nBS      1\nLA      1\nNL      1\nYU      1\nES      1\nName: state, Length: 93, dtype: int64"
     },
     "execution_count": 19,
     "metadata": {},
     "output_type": "execute_result"
    }
   ],
   "source": [
    "df['state'].value_counts()"
   ]
  },
  {
   "cell_type": "code",
   "execution_count": 20,
   "metadata": {},
   "outputs": [],
   "source": [
    "clean = pd.read_pickle('/Users/hfeiss/dsi/capstone-2/data/clean/clean.pkl')"
   ]
  },
  {
   "cell_type": "code",
   "execution_count": 21,
   "metadata": {},
   "outputs": [
    {
     "data": {
      "text/plain": "Index(['id', 'accidentdate', 'countryabbr', 'state', 'rellevel', 'difficulty',\n       'age', 'experience', 'description', 'type', 'kayak', 'commercial', 'F',\n       'I', 'M', 'target'],\n      dtype='object')"
     },
     "execution_count": 21,
     "metadata": {},
     "output_type": "execute_result"
    }
   ],
   "source": [
    "clean.columns"
   ]
  },
  {
   "cell_type": "code",
   "execution_count": null,
   "metadata": {},
   "outputs": [],
   "source": [
    "young = clean[clean['age'] != 0]\n",
    "young['age']."
   ]
  }
 ],
 "metadata": {
  "kernelspec": {
   "display_name": "Python 3.7.6 64-bit ('base': conda)",
   "language": "python",
   "name": "python37664bitbasecondae777eab680444837bb85667e680297d8"
  },
  "language_info": {
   "codemirror_mode": {
    "name": "ipython",
    "version": 3
   },
   "file_extension": ".py",
   "mimetype": "text/x-python",
   "name": "python",
   "nbconvert_exporter": "python",
   "pygments_lexer": "ipython3",
   "version": "3.7.6-final"
  }
 },
 "nbformat": 4,
 "nbformat_minor": 4
}