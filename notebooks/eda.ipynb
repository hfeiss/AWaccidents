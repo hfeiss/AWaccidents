{
 "cells": [
  {
   "cell_type": "code",
   "execution_count": 63,
   "metadata": {},
   "outputs": [],
   "source": [
    "import pandas as pd\n",
    "import numpy as np\n",
    "import matplotlib.pyplot as plt"
   ]
  },
  {
   "cell_type": "code",
   "execution_count": 64,
   "metadata": {},
   "outputs": [],
   "source": [
    "pd.set_option('display.max_columns', 100)"
   ]
  },
  {
   "cell_type": "code",
   "execution_count": 65,
   "metadata": {},
   "outputs": [],
   "source": [
    "df = pd.read_csv('accidents.csv')"
   ]
  },
  {
   "cell_type": "code",
   "execution_count": 66,
   "metadata": {},
   "outputs": [
    {
     "data": {
      "text/plain": [
       "Index(['id', '0', 'accidentdate', '1', 'victimname', '2', 'reachid', '3',\n",
       "       'countryabbr', '4', 'state', '5', 'river', '6', 'section', '7',\n",
       "       'location', '8', 'waterlevel', '9', 'rellevel', '10', 'difficulty',\n",
       "       '11', 'age', '12', 'experience', '13', 'privcomm', '14', 'boattype',\n",
       "       '15', 'groupinfo', '16', 'numvictims', '17', 'othervictimnames', '18',\n",
       "       'description', '19', 'type', '20', 'cause', '21', 'contactname', '22',\n",
       "       'contactphone', '23', 'contactemail', '24', 'status', '25'],\n",
       "      dtype='object')"
      ]
     },
     "execution_count": 66,
     "metadata": {},
     "output_type": "execute_result"
    }
   ],
   "source": [
    "df.columns"
   ]
  },
  {
   "cell_type": "code",
   "execution_count": 67,
   "metadata": {},
   "outputs": [],
   "source": [
    "cols_to_drop = [col for col in df.columns][1::2]\n",
    "cols_to_drop.extend(['victimname', 'othervictimnames', 'contactname', 'contactphone', 'contactemail', 'reachid'])\n",
    "for col in cols_to_drop:\n",
    "    del df[col]"
   ]
  },
  {
   "cell_type": "code",
   "execution_count": 68,
   "metadata": {},
   "outputs": [
    {
     "data": {
      "text/html": [
       "<div>\n",
       "<style scoped>\n",
       "    .dataframe tbody tr th:only-of-type {\n",
       "        vertical-align: middle;\n",
       "    }\n",
       "\n",
       "    .dataframe tbody tr th {\n",
       "        vertical-align: top;\n",
       "    }\n",
       "\n",
       "    .dataframe thead th {\n",
       "        text-align: right;\n",
       "    }\n",
       "</style>\n",
       "<table border=\"1\" class=\"dataframe\">\n",
       "  <thead>\n",
       "    <tr style=\"text-align: right;\">\n",
       "      <th></th>\n",
       "      <th>id</th>\n",
       "      <th>accidentdate</th>\n",
       "      <th>countryabbr</th>\n",
       "      <th>state</th>\n",
       "      <th>river</th>\n",
       "      <th>section</th>\n",
       "      <th>location</th>\n",
       "      <th>waterlevel</th>\n",
       "      <th>rellevel</th>\n",
       "      <th>difficulty</th>\n",
       "      <th>age</th>\n",
       "      <th>experience</th>\n",
       "      <th>privcomm</th>\n",
       "      <th>boattype</th>\n",
       "      <th>groupinfo</th>\n",
       "      <th>numvictims</th>\n",
       "      <th>description</th>\n",
       "      <th>type</th>\n",
       "      <th>cause</th>\n",
       "      <th>status</th>\n",
       "    </tr>\n",
       "  </thead>\n",
       "  <tbody>\n",
       "    <tr>\n",
       "      <th>0</th>\n",
       "      <td>-2638</td>\n",
       "      <td>2001-12-08</td>\n",
       "      <td>US</td>\n",
       "      <td>PA</td>\n",
       "      <td>Meadow Run</td>\n",
       "      <td>NaN</td>\n",
       "      <td>Slides above 381 Bridge</td>\n",
       "      <td>NaN</td>\n",
       "      <td>M</td>\n",
       "      <td>V</td>\n",
       "      <td>NaN</td>\n",
       "      <td>NaN</td>\n",
       "      <td>P</td>\n",
       "      <td>K</td>\n",
       "      <td>NaN</td>\n",
       "      <td>0.0</td>\n",
       "      <td>&lt;p&gt;Non-Witness Narrative by ccw on 2008-01-14 ...</td>\n",
       "      <td>I</td>\n",
       "      <td>11.0</td>\n",
       "      <td>D</td>\n",
       "    </tr>\n",
       "    <tr>\n",
       "      <th>1</th>\n",
       "      <td>5</td>\n",
       "      <td>1979-10-21</td>\n",
       "      <td>US</td>\n",
       "      <td>SC</td>\n",
       "      <td>Chattooga</td>\n",
       "      <td>Section 4 - Route 76 Bridge to Tugaloo Lake Bo...</td>\n",
       "      <td>Jawbone</td>\n",
       "      <td>1.55</td>\n",
       "      <td>NaN</td>\n",
       "      <td>IV+</td>\n",
       "      <td>20.0</td>\n",
       "      <td>X</td>\n",
       "      <td>C</td>\n",
       "      <td>K</td>\n",
       "      <td>NaN</td>\n",
       "      <td>1.0</td>\n",
       "      <td>&lt;p&gt;\\r\\n\\tDescription: The Chatooga River forms...</td>\n",
       "      <td>F</td>\n",
       "      <td>15.0</td>\n",
       "      <td>R</td>\n",
       "    </tr>\n",
       "    <tr>\n",
       "      <th>2</th>\n",
       "      <td>3</td>\n",
       "      <td>1978-05-13</td>\n",
       "      <td>US</td>\n",
       "      <td>ID</td>\n",
       "      <td>Payette, S. Fork (2 - Deadwood River to Danski...</td>\n",
       "      <td>2 - Deadwood River to Danskin Station (The Can...</td>\n",
       "      <td>Class 3-4 Chute Below Falls</td>\n",
       "      <td>NaN</td>\n",
       "      <td>M</td>\n",
       "      <td>IV</td>\n",
       "      <td>55.0</td>\n",
       "      <td>E</td>\n",
       "      <td>P</td>\n",
       "      <td>K</td>\n",
       "      <td>NaN</td>\n",
       "      <td>1.0</td>\n",
       "      <td>&lt;p&gt;\\r\\n\\tOn May 13, 1978 Dr. Walt Blackadar di...</td>\n",
       "      <td>F</td>\n",
       "      <td>14.0</td>\n",
       "      <td>R</td>\n",
       "    </tr>\n",
       "    <tr>\n",
       "      <th>3</th>\n",
       "      <td>17</td>\n",
       "      <td>1983-01-14</td>\n",
       "      <td>CI</td>\n",
       "      <td>I</td>\n",
       "      <td>Bio-Bio (Chile)</td>\n",
       "      <td>NaN</td>\n",
       "      <td>Lost Yak Rapid</td>\n",
       "      <td>20K</td>\n",
       "      <td>H</td>\n",
       "      <td>V</td>\n",
       "      <td>0.0</td>\n",
       "      <td>I</td>\n",
       "      <td>C</td>\n",
       "      <td>R</td>\n",
       "      <td>NaN</td>\n",
       "      <td>1.0</td>\n",
       "      <td>&lt;p&gt;\\r\\n\\tOn January 14, 1983 Ted Davis lost hi...</td>\n",
       "      <td>F</td>\n",
       "      <td>7.0</td>\n",
       "      <td>R</td>\n",
       "    </tr>\n",
       "    <tr>\n",
       "      <th>4</th>\n",
       "      <td>538</td>\n",
       "      <td>1999-05-07</td>\n",
       "      <td>US</td>\n",
       "      <td>CA</td>\n",
       "      <td>Dinkey Creek</td>\n",
       "      <td>2. Dinkey Creek Campgrounds to logging spur road</td>\n",
       "      <td>Entrance to Cherry Bomb Falls</td>\n",
       "      <td>500-600 cfs</td>\n",
       "      <td>M</td>\n",
       "      <td>V</td>\n",
       "      <td>43.0</td>\n",
       "      <td>E</td>\n",
       "      <td>P</td>\n",
       "      <td>K</td>\n",
       "      <td>NaN</td>\n",
       "      <td>1.0</td>\n",
       "      <td>&lt;p&gt;\\r\\n\\t&lt;span style=\"font-size: 10pt;\"&gt;Dinkey...</td>\n",
       "      <td>F</td>\n",
       "      <td>4.0</td>\n",
       "      <td>R</td>\n",
       "    </tr>\n",
       "  </tbody>\n",
       "</table>\n",
       "</div>"
      ],
      "text/plain": [
       "     id accidentdate countryabbr state  \\\n",
       "0 -2638   2001-12-08          US    PA   \n",
       "1     5   1979-10-21          US    SC   \n",
       "2     3   1978-05-13          US    ID   \n",
       "3    17   1983-01-14          CI    I    \n",
       "4   538   1999-05-07          US    CA   \n",
       "\n",
       "                                               river  \\\n",
       "0                                         Meadow Run   \n",
       "1                                         Chattooga    \n",
       "2  Payette, S. Fork (2 - Deadwood River to Danski...   \n",
       "3                                    Bio-Bio (Chile)   \n",
       "4                                       Dinkey Creek   \n",
       "\n",
       "                                             section  \\\n",
       "0                                                NaN   \n",
       "1  Section 4 - Route 76 Bridge to Tugaloo Lake Bo...   \n",
       "2  2 - Deadwood River to Danskin Station (The Can...   \n",
       "3                                                NaN   \n",
       "4   2. Dinkey Creek Campgrounds to logging spur road   \n",
       "\n",
       "                        location   waterlevel rellevel difficulty   age  \\\n",
       "0        Slides above 381 Bridge          NaN        M          V   NaN   \n",
       "1                        Jawbone         1.55      NaN        IV+  20.0   \n",
       "2    Class 3-4 Chute Below Falls          NaN        M         IV  55.0   \n",
       "3                 Lost Yak Rapid          20K        H          V   0.0   \n",
       "4  Entrance to Cherry Bomb Falls  500-600 cfs        M          V  43.0   \n",
       "\n",
       "  experience privcomm boattype groupinfo  numvictims  \\\n",
       "0        NaN        P        K       NaN         0.0   \n",
       "1          X        C        K       NaN         1.0   \n",
       "2          E        P        K       NaN         1.0   \n",
       "3          I        C        R       NaN         1.0   \n",
       "4          E        P        K       NaN         1.0   \n",
       "\n",
       "                                         description type  cause status  \n",
       "0  <p>Non-Witness Narrative by ccw on 2008-01-14 ...    I   11.0      D  \n",
       "1  <p>\\r\\n\\tDescription: The Chatooga River forms...    F   15.0      R  \n",
       "2  <p>\\r\\n\\tOn May 13, 1978 Dr. Walt Blackadar di...    F   14.0      R  \n",
       "3  <p>\\r\\n\\tOn January 14, 1983 Ted Davis lost hi...    F    7.0      R  \n",
       "4  <p>\\r\\n\\t<span style=\"font-size: 10pt;\">Dinkey...    F    4.0      R  "
      ]
     },
     "execution_count": 68,
     "metadata": {},
     "output_type": "execute_result"
    }
   ],
   "source": [
    "df.head(5)"
   ]
  },
  {
   "cell_type": "code",
   "execution_count": 69,
   "metadata": {},
   "outputs": [
    {
     "data": {
      "text/plain": [
       "(array([1.090e+02, 0.000e+00, 0.000e+00, 0.000e+00, 0.000e+00, 1.000e+00,\n",
       "        3.000e+00, 1.202e+03, 1.226e+03, 2.000e+00]),\n",
       " array([612411.0088327 , 627435.80794943, 642460.60706616, 657485.40618289,\n",
       "        672510.20529962, 687535.00441635, 702559.80353308, 717584.60264981,\n",
       "        732609.40176654, 747634.20088327, 762659.        ]),\n",
       " <a list of 10 Patch objects>)"
      ]
     },
     "execution_count": 69,
     "metadata": {},
     "output_type": "execute_result"
    },
    {
     "data": {
      "image/png": "[encoded data removed]",
      "text/plain": [
       "<Figure size 432x288 with 1 Axes>"
      ]
     },
     "metadata": {
      "needs_background": "light"
     },
     "output_type": "display_data"
    }
   ],
   "source": [
    "plt.hist(pd.to_datetime(df['accidentdate']))"
   ]
  },
  {
   "cell_type": "code",
   "execution_count": 70,
   "metadata": {},
   "outputs": [
    {
     "data": {
      "text/plain": [
       "IV      477\n",
       "III     388\n",
       "II      284\n",
       "V       278\n",
       "I       153\n",
       "IV+      48\n",
       "VI       42\n",
       "III+     31\n",
       "V+       16\n",
       "II+      11\n",
       "IV-       1\n",
       "Name: difficulty, dtype: int64"
      ]
     },
     "execution_count": 70,
     "metadata": {},
     "output_type": "execute_result"
    }
   ],
   "source": [
    "df['difficulty'].value_counts()"
   ]
  },
  {
   "cell_type": "code",
   "execution_count": 71,
   "metadata": {},
   "outputs": [
    {
     "data": {
      "text/plain": [
       "F    1616\n",
       "I     569\n",
       "M     339\n",
       "       12\n",
       "Name: type, dtype: int64"
      ]
     },
     "execution_count": 71,
     "metadata": {},
     "output_type": "execute_result"
    }
   ],
   "source": [
    "df['type'].value_counts()"
   ]
  },
  {
   "cell_type": "code",
   "execution_count": 72,
   "metadata": {},
   "outputs": [
    {
     "data": {
      "text/plain": [
       "1.0    1425\n",
       "0.0     542\n",
       "2.0      88\n",
       "3.0      21\n",
       "4.0       4\n",
       "5.0       3\n",
       "8.0       2\n",
       "Name: numvictims, dtype: int64"
      ]
     },
     "execution_count": 72,
     "metadata": {},
     "output_type": "execute_result"
    }
   ],
   "source": [
    "df['numvictims'].value_counts()"
   ]
  },
  {
   "cell_type": "code",
   "execution_count": 73,
   "metadata": {},
   "outputs": [
    {
     "data": {
      "text/plain": [
       "\"<p>Non-Witness Narrative by ccw on 2008-01-14 (okay to publish):  Acott Loveland Injured on Slides of Meadow Creek, Ohiopyle PA  Posted: Sat Jan 12, 2008 8:39 pm   Best Wishes For A Speedy Recovery To Scot Loveland   I wanted to update everyone on Scott's status, to stop any rumors, bring everyone up to speed, and allow everyone to send their best hopes and prayers on for his speedy recovery.  Today, 1/12/08 Scott flipped over in the Class V Slides rapid of Meadow Run in Ohiopyle and sustained a sharp blow to his head and/or neck. He was recovered by boaters in the pool at the bottom, where he complained of neck pain and numbness in his right arm. Paramedics were called to the scene, and it was decided that he would be life flighted to a trauma hospital in Pittsburgh.  There is good and bad news to follow: The bad is that Scott sustained a fracture to one of the vertebrae in his neck. The good news is that he has feeling and motion in all of limbs. They are waiting for an MRI to decide how to progress with his treatment from here.  Our thoughts go out to him and his family in the troubled times ahead, may you have a speedy rec overy. Our thoughts also go out to Jeff, Derek and Jesse whose quick and appropriate action on the scene likely aided in maintaining Scott's mental and physical where-with-all following the accident.</p>\""
      ]
     },
     "execution_count": 73,
     "metadata": {},
     "output_type": "execute_result"
    }
   ],
   "source": [
    "df['description'][0]"
   ]
  },
  {
   "cell_type": "code",
   "execution_count": 75,
   "metadata": {},
   "outputs": [
    {
     "data": {
      "text/plain": [
       "'I'"
      ]
     },
     "execution_count": 75,
     "metadata": {},
     "output_type": "execute_result"
    }
   ],
   "source": [
    "df['type'][0]"
   ]
  },
  {
   "cell_type": "code",
   "execution_count": 76,
   "metadata": {},
   "outputs": [],
   "source": [
    "m = df[df['type'] == 'M']"
   ]
  },
  {
   "cell_type": "code",
   "execution_count": 80,
   "metadata": {},
   "outputs": [
    {
     "data": {
      "text/plain": [
       "'<p>\\r\\n\\tBelow is a complete email directed to the UC Davis Outdoor Adventures Listserv, rather than addressed to AW Incident report, nonetheless it does an excellent job of including all of the pertinent information, and I&#39;ve edited it only minorly for clarity. - JV<br />\\r\\n\\t<br />\\r\\n\\t<span style=\"color: rgb(34, 34, 34); font-family: arial, sans-serif; font-size: 12.8px; background-color: rgb(255, 255, 255);\">Hi Clayton,</span></p>\\r\\n<div style=\"color: rgb(34, 34, 34); font-family: arial, sans-serif; font-size: 12.8px; background-color: rgb(255, 255, 255);\">\\r\\n\\t&nbsp;</div>\\r\\n<div style=\"color: rgb(34, 34, 34); font-family: arial, sans-serif; font-size: 12.8px; background-color: rgb(255, 255, 255);\">\\r\\n\\t<div>\\r\\n\\t\\tMy crew and I encountered a hypothermic kayaker on the SFA Gorge on Sunday afternoon. Our group (Jeff V, Ellis, two non-OA boaters, and I) moved him downstream, called 911, and stabilized him until Search and Rescue (SAR) arrived with a raft at 8 pm. I&#39;d like to share the full story with you and the OA community because we probably saved this guy&#39;s life. We also learned a lot of lessons about winter boating. We did many things right. We made mistakes too, including one big one. I&#39;ll describe the full story in length because I want to mention important details. Then I will list the lessons. If you think OA&#39;ers will find this educational, could you please send this out on the OA list servs?</div>\\r\\n\\t<div>\\r\\n\\t\\t&nbsp;</div>\\r\\n\\t<div>\\r\\n\\t\\t<b>Put-In</b></div>\\r\\n\\t<div>\\r\\n\\t\\t&nbsp;</div>\\r\\n\\t<div>\\r\\n\\t\\tOur group of five kayakers (class 4-5 skill level) launched at Greenwood Creek around 1-1:30pm for a lazy Sunday Gorge lap. At launch, we had about 3 hours of daylight, followed by 1 hour of graylight. It was warm in the parking lot and I only wore a base-layer and sweats under my drysuit. Our most experienced kayaker, a non-OA class 5 boater, did wear a drytop, but not a drysuit. This kayaker is also diabetic. She brought all of her medication, blood sugar testing gear, and snacks for sugar. The rest of our group wore drysuits. Between our group of five, we packed two Verizon smart-phones, a small amount of snacks, water, a spare beanie, one-set of take-out clothes, at least two first aid kits, storm-proof matches and two lighters, and one headlamp. We did not have a river map with egress points. Jeff, Ellis, and I all have Wilderness First Aid training. One of our non-OA crew-mates is an EMT while the other is a WOOFR. The expert took hand-paddles and forgot the break-down paddle in the truck at put-in.</div>\\r\\n\\t<div>\\r\\n\\t\\t&nbsp;</div>\\r\\n\\t<div>\\r\\n\\t\\t<u>For whistle blasts, we used this code</u></div>\\r\\n\\t<div>\\r\\n\\t\\tone blast - look upstream</div>\\r\\n\\t<div>\\r\\n\\t\\ttwo blasts - look downstream</div>\\r\\n\\t<div>\\r\\n\\t\\tthree blasts - emergency. The only time we blew three or more blasts was to help SAR find us</div>\\r\\n\\t<div>\\r\\n\\t\\t&nbsp;</div>\\r\\n\\t<div>\\r\\n\\t\\t<b>Encountering a Swimmer</b></div>\\r\\n\\t<div>\\r\\n\\t\\t&nbsp;</div>\\r\\n\\t<div>\\r\\n\\t\\tAt 3pm, we encountered a lone kayaker, Dave, 48, swimming in an eddy on river right in the Upper Haystacks. Dave&#39;s group was MIA. A third group of five kayakers was here. Dave was severely underdressed and he had just swam from Fowlers into Upper Haystacks. Dave had a dry-top with insufficient insulation and just leggings. His shoes were downstream with his boat. The third group of kayakers had Dave hang on to the back of one of their kayaks. They transported him, in the river, downstream to the bottom of the Upper Haystacks. From there, Dave hiked to his boat in the large eddy on river right before Satan&#39;s. Dave&#39;s group was here. Dave&#39;s friend Peter, 45, had hiked uphill with the swimmer&#39;s shoes, looking for Dave. The shoes were not river appropriate, they were crocs. Peter, the hiker, went in the wrong direction, perhaps looking for a road or trail uphill. A boater from the third group and I, used two whistle blasts to communicate to our upstream people, and Dave, that we found the boat. We used two whistle blasts and shouts to get Peter, the hiker, to return. One was on river left, communicating with the hiker. He was an experienced kayaker but not taking much initiative. To put it lightly, his lack of initiative and general nonchalance bothered us. The fourth kayaker in Dave&#39;s group was nervous on class 3, but mostly confident she could run clean lines and roll. She clearly understood that her job was to run clean lines and not swim. She did this well for the rest of the day. These three all had drysuits. The only member of the Dave&#39;s group without a drysuit was Dave, the swimmer, himself. The experienced kayaker and the nervous but mostly confident class 3 kayaker were not close with the Peter, the hiker, and Dave, swimmer. They had met for the first time on this trip.&nbsp;</div>\\r\\n\\t<div>\\r\\n\\t\\t&nbsp;</div>\\r\\n\\t<div>\\r\\n\\t\\tSeeing the sun getting low, the third group, who had transported Dave, asked us if we had the situation under control. We said yes and they departed downstream. Now it was our crew of five and the Dave&#39;s group of four. Our group took charge. We couldn&#39;t remember where the egress points where and we didn&#39;t have a river map.&nbsp;<i>This was one of our two big mistakes during the rescue.</i>&nbsp;One member of our group suggested there is a trail on river right at Hospital Bar. Having nothing else to go on, we came to the agreement that if we could get Dave to the pool upstream of Hospital Bar, he could hike out with his friend Peter and one of our crew. We made another mistake here. We overestimated the Dave&#39;s ability, especially after a LONG cold swim.&nbsp;<i>This was our second mistake.&nbsp;<br />\\r\\n\\t\\t<br />\\r\\n\\t\\t(Jeff Note: My instinct at this point was to look for hike-out options and plan egress immediately. The attractive convenience of down-river egress coupled with subject and his group&#39;s insistence on paddling out shifted the group concensus to routing downstream. In retrospect our party should not have allowed subject&#39;s desire to paddle out to influence decision-making. It was clear that he was not capable of swimming many more rapids downstream, the likelihood was reasonable that he might, and we had at this point sufficient daylight and cell reception to potentially organize extraction from the river canyon, possibly without SAR/911 involvement. Hindsight is 20/20.)</i></div>\\r\\n\\t<div>\\r\\n\\t\\t&nbsp;</div>\\r\\n\\t<div>\\r\\n\\t\\tWe left for Satan&#39;s with about 30 minutes of daylight and an hour of graylight. We saw no moon in the sky. We wouldn&#39;t have any moonlight tonight. Our expert rafted up with Dave. Her plan was for her and Dave to hold onto each other&#39;s boats while she paddled with one-arm. Our expert traded her hand paddles to Ellis. For the rest of the day, Ellis ran clean routes with the hand-paddles while our expert used Ellis&#39;s paddle. If we had a breakdown paddle, we could have used it here. Having a breakdown would have increased Ellis&#39;s ability to support us on the river. Jeff ran downstream safety through Satans. The rest of our group ran upstream safety behind the rafted kayaks. We also kept an eye on the rest of Dave&#39;s group. A second swimmer would be bad. I asked everyone if they were comfortable running the upcoming rapids. They were. We ran safety for the nervous kayaker. She did great.</div>\\r\\n\\t<div>\\r\\n\\t\\t&nbsp;</div>\\r\\n\\t<div>\\r\\n\\t\\t<b>Plan A</b></div>\\r\\n\\t<div>\\r\\n\\t\\t&nbsp;</div>\\r\\n\\t<div>\\r\\n\\t\\tDespite the raft-up with our expert, Dave swam in Satan&#39;s. We immediately got him and his gear to shore on river left, before Son of Satan&#39;s. I made Dave stand on the rocks, joked with him, and made him move around while I drained his boat for him. I didn&#39;t want him in the water trying to lift and drain his boat. Also, a hypothermic person is slow. We had limited daylight and needed to keep going downstream. Our group of nine saddled up and ran Lower Haystacks and Scissors. Dave and our expert kayaker rafted through Upper Haystacks, taking cheat lines. We tried to give them space. I got too close at one point and almost knocked them over. Dave paddled Scissors, our expert kayaker at his side. We had more confidence in Dave&#39;s kayaking ability now than we should have.</div>\\r\\n\\t<div>\\r\\n\\t\\t&nbsp;</div>\\r\\n\\t<div>\\r\\n\\t\\t<i>We were now above Bouncing Rock, a shallow rocky rapid that sucks to swim. As I mentioned earlier, our group&#39;s key mistake was not knowing about the egress point here. On river left,</i>&nbsp;a<i>cross the river and upstream from Bouncing Rock, Weber Creek flows into the SFA. Kanaka Road runs along Weber Creek down to the river. I understand that a high clearance vehicle can get pretty close to the river here. If we had known this, we should have left Dave here with his friend Peter and one of our group. Later, SAR would launch a rescue raft from here.</i></div>\\r\\n\\t<div>\\r\\n\\t\\t&nbsp;</div>\\r\\n\\t<div>\\r\\n\\t\\tOur expert kayaker rafted up with Dave and tried to run Bouncing Rock left to skirt the hole. Paddling with one hand, her other on Dave&#39;s kayak, she was unable to overcome the current and Dave swam bouncing rock. This was Dave&#39;s third swim. We couldn&#39;t get Dave to shore on river left before Ambulance Run, so Dave climbed onto the front of our expert&#39;s kayak. Dave told our expert he couldn&#39;t hold on for long. This sent alarm bells off in my head. They were floating into Ambulance Run, the shallow class 2 rapid before the jumping rock pool above Hospital Bar. Ambulance Ran is shallow and rocky on the left and clean on the right. My immediate concern was that Dave would swim Ambulance Run, lose consciousness, and get a foot entrapment. Approaching the rapid with Dave clinging to the front of our boat, our expert shouted for help.&nbsp;</div>\\r\\n\\t<div>\\r\\n\\t\\t&nbsp;</div>\\r\\n\\t<div>\\r\\n\\t\\tA second kayaker from our group and I rafted-up with our expert. We had a three kayak raft, with Dave barely holding onto the front of our expert&#39;s boat. The expert and I one-armed paddled us towards river right. Our middle kayak used both hands to hold our raft together. Fortunately, we got right, missing the boof rock at the middle bottom of the rapid by a few feet. To Dave&#39;s credit, he hung on like a champ through the wave train. We got to shore on river left at the beginning of the jump rock pool, upstream of Hospital Bar. The two other kayakers, my crew&#39;s diabetic expert and our EMT, and I got Dave out of the water. We immediately knew that Dave&#39;s hypothermia was moving from functionally cold to dangerous. We were now in scary hypothermia territory. Dave still knew his who/what/when/where questions. Turns out this was is 48th birthday and he was getting back into kayaking with his friend Peter after a 15 year hiatus. They used to run class 4 together. Dave was becoming slower and more distant. Dave&#39;s hypothermia was getting worse.&nbsp;Our EMT immediately started monitoring him closely, keeping him moving and his spirits up. We asked about his medial history some more, especially for any heart issues or leg injuries (in case he needed to hike out). He had nothing else to worry about. I fed him snacks from the diabetic&#39;s spare snack reserves. She kept what she needed to maintain her blood sugar. The sun was down and we had about 45 minutes of graylight left. There was no moon in the sky. Jeff, Ellis, and the rest of Dave&#39;s group were bringing Dave&#39;s boat and paddle downstream. I decided to call 911.</div>\\r\\n\\t<div>\\r\\n\\t\\t&nbsp;</div>\\r\\n\\t<div>\\r\\n\\t\\t<b>Calling Search and Rescue</b></div>\\r\\n\\t<div>\\r\\n\\t\\t&nbsp;</div>\\r\\n\\t<div>\\r\\n\\t\\tAt about 4:30pm, I decided to call 911 on our expert&#39;s Verizon phone. I credit my OA Sea Kayaking Guide School 2011 trainers here. They taught me that the moment you call 911 is the first time you ask yourself, &quot;Should I call 911?&quot;. I thought it for the first time here. I&#39;m thankful my group had at least one Verizon phone. I&#39;m thankful the phone was immediately available, not upstream. I called 911 within a minute of deciding we needed it. On river left, where the canyon wall is steep, the call kept dropping. I told 911 dispatch the most important things, &quot;South Fork American...Hospital Bar...hypothermia&quot;. The 911 dispatch didn&#39;t know where the South Fork American is. Fortunately, she called the El Dorado County Sheriff and they started calling us repeatedly. The calls kept dropping. Dave and Ellis brought Dave&#39;s kayak and paddle downstream to us. The group of nine was all together on riverleft. We were still thinking that Dave would hike out on a trail on river right above Hospital Bar. We asked Dave if he could paddle across flat water to river right. He said yes. Our group crossed the river. I paddled across last because I was on the phone. The expert left me with her dry-bag, which had her diabetes medication and snacks.&nbsp;<i>When I paddled across, I gave her the drybag back because I didn&#39;t want her to forget her meds and snacks.&nbsp;</i></div>\\r\\n\\t<div>\\r\\n\\t\\t&nbsp;</div>\\r\\n\\t<div>\\r\\n\\t\\tWith 30 minutes of graylight left, we were now across the river from the jumping rock in the pool above Hospital Bar. We knew Dave wasn&#39;t going back on the river, so we got him into dry clothes. Ellis, Jeff, and our expert gave Dave their own layers. Our expert gave Dave her take-out clothes. Jeff gave Dave the beanie he keeps in his first aid kit. Our expert, lacking a dry-suit was now underdressed for the cold. The rest of us were cold but could function better. Our EMT continued to monitor Dave and asked about his medical history. The headlamp was now in use.&nbsp;</div>\\r\\n\\t<div>\\r\\n\\t\\t&nbsp;</div>\\r\\n\\t<div>\\r\\n\\t\\tI got up on a rock and started talking to SAR. We described our location, and then used Google maps to drop a pin for lat/long coordinates. They told us they were launching a Zodiac from Skunk Hallow and sending in a hiking crew on Kanaka Road (the road that goes to Bouncing Rock) on river left. No helicopters were available (probably fighting wildfires in SoCal). SAR told us to keep Dave warm and in place because we were far from any trail. The trail we sought was several hundred feet uphill of us. We couldn&#39;t hike to it. Before the dry clothes, I&#39;m told Dave started dropping from alert to verbally responsive. His level of consciousness was falling. Once he was in mostly dry clothes, he stabilized. I was talking too loudly too close the group. Our expert reminded me to move away from the patient.</div>\\r\\n\\t<div>\\r\\n\\t\\t&nbsp;</div>\\r\\n\\t<div>\\r\\n\\t\\tWith 15 minutes of graylight left, it was time for most people to leave. Ellis, Jeff, and our expert, the WOOFR without the dry-suit and with diabetes, decided to leave. They could support the two kayakers from Dave&#39;s group (the experienced kayaker and the nervous but mostly confident class 3 kayaker) and look out for each other. Plus, Jeff and Ellis know the remaining rapids well. Plus, they could assist SAR at Skunk Hallow. <em>(Jeff: PLUS, SAR extraction of a large group + kayaks seemed problematic at best. We determined we could be no more use on-site, and that Dave was stable, then determined to reduce the ultimate extraction burden for SAR in the case that Helicopter was the option. I became insistent that those who were capable of paddling out needed to do so NOW, despite an imperfect scene scenario, as leaving supplies and heading downstream we likely to be the most useful the large group could be).</em></div>\\r\\n\\t<div>\\r\\n\\t\\t&nbsp;</div>\\r\\n\\t<div>\\r\\n\\t\\tWe knew Dave, his friend Peter, and one of our group would stay. It was between the EMT and I. I offered to stay because Dave was in dry-clothes and stablish, I know the river super well, had been on the phone with SAR the most, and felt confident I could build a fire with Jeff&#39;s storm-proof matches, lighters, and first aid kit. If I could build a fire, then I knew Dave would remain warm until SAR arrived. The EMT, though a stout boater, was running the Gorge for only their second time. She left with the rest of kayakers. We choose to not leave two of our group behind because we didn&#39;t want to increase the burden on SAR. The group put Dave&#39;s spray skirt on my kayak and towed it with a rescue vest all the way to take-out. Unfortunately, they took my helmet and water. They also left Jeff&#39;s headlamp, first aid kit, which included some clutch components: a WOOFA manual, a rite-in-the-rain notepad and pencil, matches and lighters. We had my first aid kit too. Our crew left extra pogies in case we needed them for our hands. I keep spare AAA and AA batteries, a sam-splint, and an ankle brace in my first aid kit. We could have replaced batteries in the headlamp.</div>\\r\\n\\t<div>\\r\\n\\t\\t&nbsp;</div>\\r\\n\\t<div>\\r\\n\\t\\tThe decision to leave Jeff&#39;s headlamp was tough. It&#39;s waterproof and they could have used it to get safely down-river. However, they decided to leave it with us. Without it, we would have struggled to build and light the fire. Jeff and I agreed this was the right choice. I&#39;m thankful we had it.</div>\\r\\n\\t<div>\\r\\n\\t\\t&nbsp;</div>\\r\\n\\t<div>\\r\\n\\t\\t<b>Campfire</b></div>\\r\\n\\t<div>\\r\\n\\t\\t&nbsp;</div>\\r\\n\\t<div>\\r\\n\\t\\tIt was now about 5pm. We had 10 minutes of graylight left. SAR was on the way. I knew that communication and calm leadership was important from here on-out. I clearly told my party what the whistle blasts were for or what they meant. I instructed Peter and Dave to gather wood and grass with <em>(the)</em> headlamp. They were in good spirits. I reminded them to walk carefully. Dave was doing great. He was functionally cold. He had warmed out of scary territory. I built a fire ring safe from nearby vegetation. We were about 25 feet from the river, on sand and rocks. After 20 minutes and a few false starts, we got a fire going. We burned most of Jeff&#39;s rite-in-the-rain paper, finally lighting the small twigs. From there, the fire was burning and we slowly added bigger sticks. The fire gave us all something to do and ended up keeping us plenty warm. Everyone was in good spirits. Peter used his Verizon phone to contact Dave&#39;s family. Dave got to talk to his wife and daughters and tell them everything was ok. The fire helped SAR find us too. Without it, our only other light was Jeff&#39;s headlamp.</div>\\r\\n\\t<div>\\r\\n\\t\\t&nbsp;</div>\\r\\n\\t<div>\\r\\n\\t\\tAround 6:30pm, we could see the flood lights from SAR&#39;s hiking party across the river, on river left. Their dispatch called on our expert&#39;s Verizon phone. He asked us to blast the whistles non-stop. He also asked if we could bring Dave across the river. We only had two kayaks and Dave was finally warm and stable. I didn&#39;t want to risk getting Dave wet. Dave said he wasn&#39;t able to paddle across. We told the dispatch no. I gave dispatch Peter&#39;s phone number. Our expert&#39;s phone had low battery. The hiking party reached the jump rock on river left and started shouting at us. I decided to paddle across to establish communication with the SAR hiking party. Keeping communication in mind, I told Peter that one whistle blast meant I was coming back, and for him to come down to the river. I used Dave&#39;s helmet, boat, and paddle to cross the river. My gear was at Skunk Hollow by now. I shouted at the hiking party to light up the river with their handheld flood lights so I could paddle across. They did great. I shared information with the hiking party. SAR told us they were launching a raft from Kanaka Road across from Bouncing Rock. They told us to hang tight and keep Dave warm. I told them I was going to whistle to tell Peter I was coming back. I told the SAR guys to whistle if they wanted me to come back. This pre-established a method for us to communicate with each other.</div>\\r\\n\\t<div>\\r\\n\\t\\t&nbsp;</div>\\r\\n\\t<div>\\r\\n\\t\\tWe kept the fire going. Peter collected plenty of wood. I told Dave to take off wet socks and dry them on rocks by the fire. Peter did a great job supporting Dave, keeping him talking and in good spirits. We shared boating stories. Both of them live in Davis. They kayaked a lot of class 4 and 5 in their 20s. They stopped after injuries and/or kids. Fifteen years later, they wanted to get back into it. I kept an eye on Dave to make sure he didn&#39;t burn himself. I tried to take his pulse several times, but could only find it and count it once. This is my own flaw, I have trouble finding people&#39;s pulses. I did write down the measurement. It was 60 bpm at 7pm. He was warm and talking. I was disappointed with myself for not being better at this, but I was also confident that he was warming up. I will practice this skill. Dave&#39;s skin temperature was rising and his alertness was increasing. After I kayaked across the river and back, his hands were warmer than mine.</div>\\r\\n\\t<div>\\r\\n\\t\\t&nbsp;</div>\\r\\n\\t<div>\\r\\n\\t\\t<b>Egress</b></div>\\r\\n\\t<div>\\r\\n\\t\\t&nbsp;</div>\\r\\n\\t<div>\\r\\n\\t\\tAt 8pm, the raft arrived. A local guide on his private 14ft raft with 4 SAR persons, all wearing dry-suits. They had a thermos of hot water for Dave. SAR took over monitoring Dave and helped him get into the raft. Peter got into the raft. SAR rigged Dave&#39;s kayak and paddle into the raft. I offered to safety kayak with Peter&#39;s Nomad 8.6. I felt safer having safety in the water in case someone fell out of the raft at Hospital Bar, I have the same creek boat and I know that my rand spray skirt will fit over the cockpit. If you have a rand skirt, don&#39;t assume it will fit over any cockpit. My rand spray skirt was to small for Dave&#39;s boat. I could see Hospital Bar, Recovery Room, and Surprise in my head. During shuttle, I knew the reservoir was low enough for a couple bonus rapids after Surprise. I know those have rocks to avoid and some small waves. The SAR guys told me they felt safer having a kayak in front to set downstream safety and show the lines. The SAR raft guide knew the lines too. I checked in with him.</div>\\r\\n\\t<div>\\r\\n\\t\\t&nbsp;</div>\\r\\n\\t<div>\\r\\n\\t\\tThe raft and I left around 8:20pm. There was no natural light in the sky. No moon. On the raft, Peter used a handheld flood light to light up the river as best as possible. The frothing white of waves is easy to see. Rocks are invisible.&nbsp; The raft guide was solid, but we both felt better having me in front. I entered the Hospital Bar riffles middle left to avoid the hole at the bottom. I should have gone more right. I bounced over some rocks. That was the only scary part of the night kayak. The raft stayed more right. We missed the big hole and ran the bonus rapids clean. Approaching each bonus rapid, I communicated lines with the raft guide. I used simple arm gestures to show which part of the river was cleanest. This safety measure ensured he stayed away from rocks and sticky holes. Recovery Room is clean down the left. You can skirt Surprise on the right. We avoided rocks in the bonus rapids and met the zodiac in the reservoir. They towed us to Skunk Hallow where we met the cavalry. They warmed up Dave while I debriefed with my group.&nbsp;</div>\\r\\n\\t<div>\\r\\n\\t\\t&nbsp;</div>\\r\\n\\t<div>\\r\\n\\t\\tEllis and our expert had run shuttle and got into warm clothes. Jeff had gone hiking upstream with a <em>(group of firemen carrying stretcher and supplies, in case the river extraction proved not to be an option).</em>They walked upstream from the Skunk Hallow trail on river right. When they trail got to where Hospital Bar is, they were a quarter mile uphill from the river. This was the trail we originally thought we&#39;d hike out on. Unfortunately, it wasn&#39;t close to the river.</div>\\r\\n\\t<div>\\r\\n\\t\\t&nbsp;</div>\\r\\n\\t<div>\\r\\n\\t\\t<u><b>Lessons for Winter Boating: Prep for getting stuck on the river in the dark and the cold</b></u></div>\\r\\n\\t<div>\\r\\n\\t\\t<ol>\\r\\n\\t\\t\\t<li style=\"margin-left: 15px;\">\\r\\n\\t\\t\\t\\tStart earlier in the day.&nbsp;</li>\\r\\n\\t\\t\\t<li style=\"margin-left: 15px;\">\\r\\n\\t\\t\\t\\tBring a water-proof map. Know your egress points. If the paper isn&#39;t waterproof, add it your first aid kit.</li>\\r\\n\\t\\t\\t<li style=\"margin-left: 15px;\">\\r\\n\\t\\t\\t\\tEveryone needs a drysuit with sufficient layers and river shoes. Even if you are confident that you won&#39;t swim, someone else might. If someone has a cold swim, get out of your boat to help drain their boat.</li>\\r\\n\\t\\t\\t<li style=\"margin-left: 15px;\">\\r\\n\\t\\t\\t\\tPack dry clothes in your drybag. Pack more water and food then you think you need. Larry Gunther taught me to keep snickers in my PFD.</li>\\r\\n\\t\\t\\t<li style=\"margin-left: 15px;\">\\r\\n\\t\\t\\t\\tAdd a beanie, headlamp + batteries, storm matches and lighters, and paper to burn, space blanket, and plastic jar of peanut butter to your first aid kit.</li>\\r\\n\\t\\t\\t<li style=\"margin-left: 15px;\">\\r\\n\\t\\t\\t\\tCarry a breakdown paddle. We started with 4 paddles and one set of hand paddles. After our expert starting rafting up with Dave, Ellis used the hand paddles like a champ during the middle of the scenario. He was able to paddle out with my paddle.&nbsp;</li>\\r\\n\\t\\t\\t<li style=\"margin-left: 15px;\">\\r\\n\\t\\t\\t\\tMake sure someone has a Verizon phone. Make sure it&#39;s charged and/or bring a fully charged USB charger. Program the number for the El Dorado County Sherriff. They know the river. Calling 911 worked, but it was slower. Calls will drop. Open the call with location and injury, &quot;South Fork American, Hospital bar, hypothermia&quot;. If you boat other rivers, add the county sheriff number for that county too. Know how to drop a pin on google maps and find the lat/long. I struggled here.</li>\\r\\n\\t\\t\\t<li style=\"margin-left: 15px;\">\\r\\n\\t\\t\\t\\tPractice building a fire anywhere you can with different fire starting tools and different materials. Practice in a fireplace, backyard fire ring, or out camping. Practice with wet and dry kindling. Building a fire kept Dave stable and kept Peter and I from getting cold and becoming victims too.</li>\\r\\n\\t\\t\\t<li style=\"margin-left: 15px;\">\\r\\n\\t\\t\\t\\tAdd glowsticks and zip ties to your first aid kit. I could have attached these to my PFD, increasingly my visibility on the egress.</li>\\r\\n\\t\\t\\t<li style=\"margin-left: 15px;\">\\r\\n\\t\\t\\t\\tIf you&#39;re warm in the parking lot, wear the extra layer or pack it in your drybag.&nbsp;</li>\\r\\n\\t\\t\\t<li style=\"margin-left: 15px;\">\\r\\n\\t\\t\\t\\tHelp cold swimmers drain their boats, especially if they don&#39;t have drysuits. Don&#39;t let them stand in the water.</li>\\r\\n\\t\\t</ol>\\r\\n\\t\\t<div>\\r\\n\\t\\t\\t<u><b>Other Lessons</b></u></div>\\r\\n\\t</div>\\r\\n\\t<div>\\r\\n\\t\\t<ol>\\r\\n\\t\\t\\t<li style=\"margin-left: 15px;\">\\r\\n\\t\\t\\t\\tKeep track of key gear, including keys, phones, meds, and first aid kits. People were trading drybags and gear. I made sure our diabetic expert wasn&#39;t separated from her meds and snacks. While I kept my drybag at the campfire, I made sure my car keys went downstream with Ellis.&nbsp;</li>\\r\\n\\t\\t\\t<li style=\"margin-left: 15px;\">\\r\\n\\t\\t\\t\\tCheck-in with your crew and with people that join your group. Ask if they are comfortable with the next rapid, can roll, and know the lines. Keep track of everyone else&#39;s temperature too.</li>\\r\\n\\t\\t\\t<li style=\"margin-left: 15px;\">\\r\\n\\t\\t\\t\\tMaintain communication within your crew. Know what whistle blasts mean.</li>\\r\\n\\t\\t\\t<li style=\"margin-left: 15px;\">\\r\\n\\t\\t\\t\\tOnly kayak in these conditions if you are solid, can see the lines in your head, and are adding safety. I am comfortable with my decision to night paddle. I wanted to support the raft and help it find safe lines. I knew I was less likely to swim from my kayak than someone else&#39;s raft. The only mistake I made on the night paddle was going to far left on the riffle entrance to Hospital Bar. Everything else was smooth. Rocks are harder to see by flash light than waves. If I had to do it again, I would have stuck to the waves more.&nbsp;</li>\\r\\n\\t\\t\\t<li style=\"margin-left: 15px;\">\\r\\n\\t\\t\\t\\tIf you have a rand skirt, don&#39;t assume it will fit on any boat.</li>\\r\\n\\t\\t\\t<li style=\"margin-left: 15px;\">\\r\\n\\t\\t\\t\\tIf you are good at an outdoor sport, take a long break, and then come back in 15 years, don&#39;t assume you can run the same stuff you used to run. Start small and rebuild your skills.</li>\\r\\n\\t\\t</ol>\\r\\n\\t</div>\\r\\n\\t<div>\\r\\n\\t\\tI&#39;m confident that my group, working as a well-communicating team, helped saved Dave&#39;s life. We have learned from the mistakes we made on the river and in the gear we didn&#39;t bring. I&#39;m proud of my group because when we made a mistake on the river, we fixed it. We stabilized Dave and helped egress him. If we had known our egress points, this would have gone smoother. Everyone in my crew contributed solution-oriented ideas, actions, gear, and positive morale to the rescue. I am thankful for my training and time with the whole OA community, not just the boaters. We&#39;ve got a stellar group of people that teach excellent skills. We always take initiative and rise to the occasion. I&#39;m proud to be part of the OA community. I hope this story and lessons are educational.&nbsp;</div>\\r\\n\\t<div>\\r\\n\\t\\t&nbsp;</div>\\r\\n\\t<div>\\r\\n\\t\\tStay safe out there,</div>\\r\\n\\t<div>\\r\\n\\t\\tKevin</div>\\r\\n</div>\\r\\n<p>\\r\\n\\t&nbsp;</p>\\r\\n'"
      ]
     },
     "execution_count": 80,
     "metadata": {},
     "output_type": "execute_result"
    }
   ],
   "source": [
    "m.reset_index(drop=True, inplace=True)\n",
    "m['description'][0]"
   ]
  },
  {
   "cell_type": "code",
   "execution_count": 82,
   "metadata": {},
   "outputs": [
    {
     "data": {
      "text/plain": [
       "<bound method DataFrame.info of          id accidentdate countryabbr state  \\\n",
       "0     -2638   2001-12-08          US    PA   \n",
       "1         5   1979-10-21          US    SC   \n",
       "2         3   1978-05-13          US    ID   \n",
       "3        17   1983-01-14          CI    I    \n",
       "4       538   1999-05-07          US    CA   \n",
       "...     ...          ...         ...   ...   \n",
       "2538  53753   2019-10-26          US    AL   \n",
       "2539     45   1987-08-01          CA    BC   \n",
       "2540  50524   2019-09-21          US    MD   \n",
       "2541  49855   2019-05-17          US    MD   \n",
       "2542  58181   2019-12-01          US    TN   \n",
       "\n",
       "                                                  river  \\\n",
       "0                                            Meadow Run   \n",
       "1                                            Chattooga    \n",
       "2     Payette, S. Fork (2 - Deadwood River to Danski...   \n",
       "3                                       Bio-Bio (Chile)   \n",
       "4                                          Dinkey Creek   \n",
       "...                                                 ...   \n",
       "2538                                             Little   \n",
       "2539                                             Chilko   \n",
       "2540                                            Potomac   \n",
       "2541                                       Youghiogheny   \n",
       "2542                                     Richland Creek   \n",
       "\n",
       "                                                section  \\\n",
       "0                                                   NaN   \n",
       "1     Section 4 - Route 76 Bridge to Tugaloo Lake Bo...   \n",
       "2     2 - Deadwood River to Danskin Station (The Can...   \n",
       "3                                                   NaN   \n",
       "4      2. Dinkey Creek Campgrounds to logging spur road   \n",
       "...                                                 ...   \n",
       "2538                             1. Hwy 35 to Upper Two   \n",
       "2539                                                NaN   \n",
       "2540  2. GW Canal Loop or Violette's Lock to Pennyfi...   \n",
       "2541                                           3. Upper   \n",
       "2542    Old Dayton Reservoir to Laurel-Snow Parking Lot   \n",
       "\n",
       "                                               location   waterlevel rellevel  \\\n",
       "0                               Slides above 381 Bridge          NaN        M   \n",
       "1                                               Jawbone         1.55      NaN   \n",
       "2                           Class 3-4 Chute Below Falls          NaN        M   \n",
       "3                                        Lost Yak Rapid          20K        H   \n",
       "4                         Entrance to Cherry Bomb Falls  500-600 cfs        M   \n",
       "...                                                 ...          ...      ...   \n",
       "2538                                                NaN      200 cfs        L   \n",
       "2539                                         White Mile   10,000 cfs        H   \n",
       "2540                                       Below Dam #2          NaN        L   \n",
       "2541                                                NaN         2.5'        M   \n",
       "2542  a bad log in the right side of Screaming Left ...          NaN      NaN   \n",
       "\n",
       "     difficulty   age experience privcomm boattype   groupinfo  numvictims  \\\n",
       "0             V   NaN        NaN        P        K         NaN         0.0   \n",
       "1           IV+  20.0          X        C        K         NaN         1.0   \n",
       "2            IV  55.0          E        P        K         NaN         1.0   \n",
       "3             V   0.0          I        C        R         NaN         1.0   \n",
       "4             V  43.0          E        P        K         NaN         1.0   \n",
       "...         ...   ...        ...      ...      ...         ...         ...   \n",
       "2538        IV+  41.0        NaN        P        K  2 Paddlers         NaN   \n",
       "2539          V  40.0          I        C        R         NaN         5.0   \n",
       "2540         II  66.0        NaN        P        K         NaN         NaN   \n",
       "2541          V  59.0        NaN        C        R         NaN         NaN   \n",
       "2542        IV+  31.0          E        P        K    3 kayaks         NaN   \n",
       "\n",
       "                                            description type  cause status  \n",
       "0     <p>Non-Witness Narrative by ccw on 2008-01-14 ...    I   11.0      D  \n",
       "1     <p>\\r\\n\\tDescription: The Chatooga River forms...    F   15.0      R  \n",
       "2     <p>\\r\\n\\tOn May 13, 1978 Dr. Walt Blackadar di...    F   14.0      R  \n",
       "3     <p>\\r\\n\\tOn January 14, 1983 Ted Davis lost hi...    F    7.0      R  \n",
       "4     <p>\\r\\n\\t<span style=\"font-size: 10pt;\">Dinkey...    F    4.0      R  \n",
       "...                                                 ...  ...    ...    ...  \n",
       "2538  <p class=\"MsoNormal\"><span style=\"font-size:12...    F    NaN      D  \n",
       "2539  <p>\\r\\n\\tWhat started out as an adventurous ho...    F    NaN      R  \n",
       "2540  <p class=\"MsoNormal\"><span style=\"font-size:12...    M    NaN      R  \n",
       "2541  <div style=\"font-family:Arial, Helvetica, sans...    F    NaN      R  \n",
       "2542  <p class=\"MsoNormal\" style=\"margin-bottom:.000...    F    NaN      R  \n",
       "\n",
       "[2543 rows x 20 columns]>"
      ]
     },
     "execution_count": 82,
     "metadata": {},
     "output_type": "execute_result"
    }
   ],
   "source": [
    "df.info"
   ]
  },
  {
   "cell_type": "code",
   "execution_count": null,
   "metadata": {},
   "outputs": [],
   "source": []
  }
 ],
 "metadata": {
  "kernelspec": {
   "display_name": "Python 3",
   "language": "python",
   "name": "python3"
  },
  "language_info": {
   "codemirror_mode": {
    "name": "ipython",
    "version": 3
   },
   "file_extension": ".py",
   "mimetype": "text/x-python",
   "name": "python",
   "nbconvert_exporter": "python",
   "pygments_lexer": "ipython3",
   "version": "3.7.6"
  }
 },
 "nbformat": 4,
 "nbformat_minor": 4
}
